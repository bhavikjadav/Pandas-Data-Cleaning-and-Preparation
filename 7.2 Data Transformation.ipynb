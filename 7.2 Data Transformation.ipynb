{
 "cells": [
  {
   "cell_type": "markdown",
   "metadata": {},
   "source": [
    "# Data Transformation"
   ]
  },
  {
   "cell_type": "markdown",
   "metadata": {},
   "source": [
    "## Removing Duplicates"
   ]
  },
  {
   "cell_type": "code",
   "execution_count": 1,
   "metadata": {},
   "outputs": [],
   "source": [
    "import numpy as np\n",
    "import pandas as pd\n",
    "from numpy import nan as NA"
   ]
  },
  {
   "cell_type": "code",
   "execution_count": 2,
   "metadata": {},
   "outputs": [],
   "source": [
    "data = pd.DataFrame({'k1': ['one', 'two'] * 3 + ['two'], 'k2': [1, 1, 2, 3, 3, 4, 4]})"
   ]
  },
  {
   "cell_type": "code",
   "execution_count": 4,
   "metadata": {},
   "outputs": [
    {
     "data": {
      "text/html": [
       "<div>\n",
       "<style scoped>\n",
       "    .dataframe tbody tr th:only-of-type {\n",
       "        vertical-align: middle;\n",
       "    }\n",
       "\n",
       "    .dataframe tbody tr th {\n",
       "        vertical-align: top;\n",
       "    }\n",
       "\n",
       "    .dataframe thead th {\n",
       "        text-align: right;\n",
       "    }\n",
       "</style>\n",
       "<table border=\"1\" class=\"dataframe\">\n",
       "  <thead>\n",
       "    <tr style=\"text-align: right;\">\n",
       "      <th></th>\n",
       "      <th>k1</th>\n",
       "      <th>k2</th>\n",
       "    </tr>\n",
       "  </thead>\n",
       "  <tbody>\n",
       "    <tr>\n",
       "      <th>0</th>\n",
       "      <td>one</td>\n",
       "      <td>1</td>\n",
       "    </tr>\n",
       "    <tr>\n",
       "      <th>1</th>\n",
       "      <td>two</td>\n",
       "      <td>1</td>\n",
       "    </tr>\n",
       "    <tr>\n",
       "      <th>2</th>\n",
       "      <td>one</td>\n",
       "      <td>2</td>\n",
       "    </tr>\n",
       "    <tr>\n",
       "      <th>3</th>\n",
       "      <td>two</td>\n",
       "      <td>3</td>\n",
       "    </tr>\n",
       "    <tr>\n",
       "      <th>4</th>\n",
       "      <td>one</td>\n",
       "      <td>3</td>\n",
       "    </tr>\n",
       "    <tr>\n",
       "      <th>5</th>\n",
       "      <td>two</td>\n",
       "      <td>4</td>\n",
       "    </tr>\n",
       "    <tr>\n",
       "      <th>6</th>\n",
       "      <td>two</td>\n",
       "      <td>4</td>\n",
       "    </tr>\n",
       "  </tbody>\n",
       "</table>\n",
       "</div>"
      ],
      "text/plain": [
       "    k1  k2\n",
       "0  one   1\n",
       "1  two   1\n",
       "2  one   2\n",
       "3  two   3\n",
       "4  one   3\n",
       "5  two   4\n",
       "6  two   4"
      ]
     },
     "execution_count": 4,
     "metadata": {},
     "output_type": "execute_result"
    }
   ],
   "source": [
    "data"
   ]
  },
  {
   "cell_type": "code",
   "execution_count": 6,
   "metadata": {},
   "outputs": [
    {
     "data": {
      "text/plain": [
       "0    False\n",
       "1    False\n",
       "2    False\n",
       "3    False\n",
       "4    False\n",
       "5    False\n",
       "6     True\n",
       "dtype: bool"
      ]
     },
     "execution_count": 6,
     "metadata": {},
     "output_type": "execute_result"
    }
   ],
   "source": [
    "data.duplicated() # Returns True if duplicate values found."
   ]
  },
  {
   "cell_type": "code",
   "execution_count": 8,
   "metadata": {},
   "outputs": [
    {
     "data": {
      "text/html": [
       "<div>\n",
       "<style scoped>\n",
       "    .dataframe tbody tr th:only-of-type {\n",
       "        vertical-align: middle;\n",
       "    }\n",
       "\n",
       "    .dataframe tbody tr th {\n",
       "        vertical-align: top;\n",
       "    }\n",
       "\n",
       "    .dataframe thead th {\n",
       "        text-align: right;\n",
       "    }\n",
       "</style>\n",
       "<table border=\"1\" class=\"dataframe\">\n",
       "  <thead>\n",
       "    <tr style=\"text-align: right;\">\n",
       "      <th></th>\n",
       "      <th>k1</th>\n",
       "      <th>k2</th>\n",
       "    </tr>\n",
       "  </thead>\n",
       "  <tbody>\n",
       "    <tr>\n",
       "      <th>0</th>\n",
       "      <td>one</td>\n",
       "      <td>1</td>\n",
       "    </tr>\n",
       "    <tr>\n",
       "      <th>1</th>\n",
       "      <td>two</td>\n",
       "      <td>1</td>\n",
       "    </tr>\n",
       "    <tr>\n",
       "      <th>2</th>\n",
       "      <td>one</td>\n",
       "      <td>2</td>\n",
       "    </tr>\n",
       "    <tr>\n",
       "      <th>3</th>\n",
       "      <td>two</td>\n",
       "      <td>3</td>\n",
       "    </tr>\n",
       "    <tr>\n",
       "      <th>4</th>\n",
       "      <td>one</td>\n",
       "      <td>3</td>\n",
       "    </tr>\n",
       "    <tr>\n",
       "      <th>5</th>\n",
       "      <td>two</td>\n",
       "      <td>4</td>\n",
       "    </tr>\n",
       "  </tbody>\n",
       "</table>\n",
       "</div>"
      ],
      "text/plain": [
       "    k1  k2\n",
       "0  one   1\n",
       "1  two   1\n",
       "2  one   2\n",
       "3  two   3\n",
       "4  one   3\n",
       "5  two   4"
      ]
     },
     "execution_count": 8,
     "metadata": {},
     "output_type": "execute_result"
    }
   ],
   "source": [
    "data.drop_duplicates() # it will drops the duplicate data with their index as well as values."
   ]
  },
  {
   "cell_type": "code",
   "execution_count": 9,
   "metadata": {},
   "outputs": [],
   "source": [
    "data['v1'] = range(7)"
   ]
  },
  {
   "cell_type": "code",
   "execution_count": 10,
   "metadata": {},
   "outputs": [
    {
     "data": {
      "text/html": [
       "<div>\n",
       "<style scoped>\n",
       "    .dataframe tbody tr th:only-of-type {\n",
       "        vertical-align: middle;\n",
       "    }\n",
       "\n",
       "    .dataframe tbody tr th {\n",
       "        vertical-align: top;\n",
       "    }\n",
       "\n",
       "    .dataframe thead th {\n",
       "        text-align: right;\n",
       "    }\n",
       "</style>\n",
       "<table border=\"1\" class=\"dataframe\">\n",
       "  <thead>\n",
       "    <tr style=\"text-align: right;\">\n",
       "      <th></th>\n",
       "      <th>k1</th>\n",
       "      <th>k2</th>\n",
       "      <th>v1</th>\n",
       "    </tr>\n",
       "  </thead>\n",
       "  <tbody>\n",
       "    <tr>\n",
       "      <th>0</th>\n",
       "      <td>one</td>\n",
       "      <td>1</td>\n",
       "      <td>0</td>\n",
       "    </tr>\n",
       "    <tr>\n",
       "      <th>1</th>\n",
       "      <td>two</td>\n",
       "      <td>1</td>\n",
       "      <td>1</td>\n",
       "    </tr>\n",
       "    <tr>\n",
       "      <th>2</th>\n",
       "      <td>one</td>\n",
       "      <td>2</td>\n",
       "      <td>2</td>\n",
       "    </tr>\n",
       "    <tr>\n",
       "      <th>3</th>\n",
       "      <td>two</td>\n",
       "      <td>3</td>\n",
       "      <td>3</td>\n",
       "    </tr>\n",
       "    <tr>\n",
       "      <th>4</th>\n",
       "      <td>one</td>\n",
       "      <td>3</td>\n",
       "      <td>4</td>\n",
       "    </tr>\n",
       "    <tr>\n",
       "      <th>5</th>\n",
       "      <td>two</td>\n",
       "      <td>4</td>\n",
       "      <td>5</td>\n",
       "    </tr>\n",
       "    <tr>\n",
       "      <th>6</th>\n",
       "      <td>two</td>\n",
       "      <td>4</td>\n",
       "      <td>6</td>\n",
       "    </tr>\n",
       "  </tbody>\n",
       "</table>\n",
       "</div>"
      ],
      "text/plain": [
       "    k1  k2  v1\n",
       "0  one   1   0\n",
       "1  two   1   1\n",
       "2  one   2   2\n",
       "3  two   3   3\n",
       "4  one   3   4\n",
       "5  two   4   5\n",
       "6  two   4   6"
      ]
     },
     "execution_count": 10,
     "metadata": {},
     "output_type": "execute_result"
    }
   ],
   "source": [
    "data"
   ]
  },
  {
   "cell_type": "code",
   "execution_count": 11,
   "metadata": {},
   "outputs": [
    {
     "data": {
      "text/html": [
       "<div>\n",
       "<style scoped>\n",
       "    .dataframe tbody tr th:only-of-type {\n",
       "        vertical-align: middle;\n",
       "    }\n",
       "\n",
       "    .dataframe tbody tr th {\n",
       "        vertical-align: top;\n",
       "    }\n",
       "\n",
       "    .dataframe thead th {\n",
       "        text-align: right;\n",
       "    }\n",
       "</style>\n",
       "<table border=\"1\" class=\"dataframe\">\n",
       "  <thead>\n",
       "    <tr style=\"text-align: right;\">\n",
       "      <th></th>\n",
       "      <th>k1</th>\n",
       "      <th>k2</th>\n",
       "      <th>v1</th>\n",
       "    </tr>\n",
       "  </thead>\n",
       "  <tbody>\n",
       "    <tr>\n",
       "      <th>0</th>\n",
       "      <td>one</td>\n",
       "      <td>1</td>\n",
       "      <td>0</td>\n",
       "    </tr>\n",
       "    <tr>\n",
       "      <th>1</th>\n",
       "      <td>two</td>\n",
       "      <td>1</td>\n",
       "      <td>1</td>\n",
       "    </tr>\n",
       "  </tbody>\n",
       "</table>\n",
       "</div>"
      ],
      "text/plain": [
       "    k1  k2  v1\n",
       "0  one   1   0\n",
       "1  two   1   1"
      ]
     },
     "execution_count": 11,
     "metadata": {},
     "output_type": "execute_result"
    }
   ],
   "source": [
    "data.drop_duplicates(['k1'])"
   ]
  },
  {
   "cell_type": "code",
   "execution_count": 12,
   "metadata": {},
   "outputs": [
    {
     "data": {
      "text/html": [
       "<div>\n",
       "<style scoped>\n",
       "    .dataframe tbody tr th:only-of-type {\n",
       "        vertical-align: middle;\n",
       "    }\n",
       "\n",
       "    .dataframe tbody tr th {\n",
       "        vertical-align: top;\n",
       "    }\n",
       "\n",
       "    .dataframe thead th {\n",
       "        text-align: right;\n",
       "    }\n",
       "</style>\n",
       "<table border=\"1\" class=\"dataframe\">\n",
       "  <thead>\n",
       "    <tr style=\"text-align: right;\">\n",
       "      <th></th>\n",
       "      <th>k1</th>\n",
       "      <th>k2</th>\n",
       "      <th>v1</th>\n",
       "    </tr>\n",
       "  </thead>\n",
       "  <tbody>\n",
       "    <tr>\n",
       "      <th>0</th>\n",
       "      <td>one</td>\n",
       "      <td>1</td>\n",
       "      <td>0</td>\n",
       "    </tr>\n",
       "    <tr>\n",
       "      <th>1</th>\n",
       "      <td>two</td>\n",
       "      <td>1</td>\n",
       "      <td>1</td>\n",
       "    </tr>\n",
       "    <tr>\n",
       "      <th>2</th>\n",
       "      <td>one</td>\n",
       "      <td>2</td>\n",
       "      <td>2</td>\n",
       "    </tr>\n",
       "    <tr>\n",
       "      <th>3</th>\n",
       "      <td>two</td>\n",
       "      <td>3</td>\n",
       "      <td>3</td>\n",
       "    </tr>\n",
       "    <tr>\n",
       "      <th>4</th>\n",
       "      <td>one</td>\n",
       "      <td>3</td>\n",
       "      <td>4</td>\n",
       "    </tr>\n",
       "    <tr>\n",
       "      <th>6</th>\n",
       "      <td>two</td>\n",
       "      <td>4</td>\n",
       "      <td>6</td>\n",
       "    </tr>\n",
       "  </tbody>\n",
       "</table>\n",
       "</div>"
      ],
      "text/plain": [
       "    k1  k2  v1\n",
       "0  one   1   0\n",
       "1  two   1   1\n",
       "2  one   2   2\n",
       "3  two   3   3\n",
       "4  one   3   4\n",
       "6  two   4   6"
      ]
     },
     "execution_count": 12,
     "metadata": {},
     "output_type": "execute_result"
    }
   ],
   "source": [
    "data.drop_duplicates(['k1', 'k2'], keep='last') # refer book to understand or see indexes."
   ]
  },
  {
   "cell_type": "markdown",
   "metadata": {},
   "source": [
    "## Transforming Data Using a Function or Mapping"
   ]
  },
  {
   "cell_type": "code",
   "execution_count": 13,
   "metadata": {},
   "outputs": [],
   "source": [
    "data = pd.DataFrame({'food': ['bacon', 'pulled pork', 'bacon', \n",
    "                              'Pastrami', 'corned beef', 'Bacon',\n",
    "                              'pastrami', 'honey ham', 'nova lox'], \n",
    "                     'ounces': [4, 3, 12, 6, 7.5, 8, 3, 5, 6]})"
   ]
  },
  {
   "cell_type": "code",
   "execution_count": 14,
   "metadata": {},
   "outputs": [
    {
     "data": {
      "text/html": [
       "<div>\n",
       "<style scoped>\n",
       "    .dataframe tbody tr th:only-of-type {\n",
       "        vertical-align: middle;\n",
       "    }\n",
       "\n",
       "    .dataframe tbody tr th {\n",
       "        vertical-align: top;\n",
       "    }\n",
       "\n",
       "    .dataframe thead th {\n",
       "        text-align: right;\n",
       "    }\n",
       "</style>\n",
       "<table border=\"1\" class=\"dataframe\">\n",
       "  <thead>\n",
       "    <tr style=\"text-align: right;\">\n",
       "      <th></th>\n",
       "      <th>food</th>\n",
       "      <th>ounces</th>\n",
       "    </tr>\n",
       "  </thead>\n",
       "  <tbody>\n",
       "    <tr>\n",
       "      <th>0</th>\n",
       "      <td>bacon</td>\n",
       "      <td>4.0</td>\n",
       "    </tr>\n",
       "    <tr>\n",
       "      <th>1</th>\n",
       "      <td>pulled pork</td>\n",
       "      <td>3.0</td>\n",
       "    </tr>\n",
       "    <tr>\n",
       "      <th>2</th>\n",
       "      <td>bacon</td>\n",
       "      <td>12.0</td>\n",
       "    </tr>\n",
       "    <tr>\n",
       "      <th>3</th>\n",
       "      <td>Pastrami</td>\n",
       "      <td>6.0</td>\n",
       "    </tr>\n",
       "    <tr>\n",
       "      <th>4</th>\n",
       "      <td>corned beef</td>\n",
       "      <td>7.5</td>\n",
       "    </tr>\n",
       "    <tr>\n",
       "      <th>5</th>\n",
       "      <td>Bacon</td>\n",
       "      <td>8.0</td>\n",
       "    </tr>\n",
       "    <tr>\n",
       "      <th>6</th>\n",
       "      <td>pastrami</td>\n",
       "      <td>3.0</td>\n",
       "    </tr>\n",
       "    <tr>\n",
       "      <th>7</th>\n",
       "      <td>honey ham</td>\n",
       "      <td>5.0</td>\n",
       "    </tr>\n",
       "    <tr>\n",
       "      <th>8</th>\n",
       "      <td>nova lox</td>\n",
       "      <td>6.0</td>\n",
       "    </tr>\n",
       "  </tbody>\n",
       "</table>\n",
       "</div>"
      ],
      "text/plain": [
       "          food  ounces\n",
       "0        bacon     4.0\n",
       "1  pulled pork     3.0\n",
       "2        bacon    12.0\n",
       "3     Pastrami     6.0\n",
       "4  corned beef     7.5\n",
       "5        Bacon     8.0\n",
       "6     pastrami     3.0\n",
       "7    honey ham     5.0\n",
       "8     nova lox     6.0"
      ]
     },
     "execution_count": 14,
     "metadata": {},
     "output_type": "execute_result"
    }
   ],
   "source": [
    "data"
   ]
  },
  {
   "cell_type": "code",
   "execution_count": 29,
   "metadata": {},
   "outputs": [],
   "source": [
    "meat_to_animal = {\n",
    "    'bacon': 'pig',\n",
    "    'pulled pork': 'pig',\n",
    "    'pastrami': 'cow',\n",
    "    'corned beef': 'cow',\n",
    "    'honey ham': 'pig',\n",
    "    'nova lox': 'salmon'\n",
    "}"
   ]
  },
  {
   "cell_type": "code",
   "execution_count": 30,
   "metadata": {},
   "outputs": [],
   "source": [
    "lowercased = data['food'].str.lower()"
   ]
  },
  {
   "cell_type": "code",
   "execution_count": 31,
   "metadata": {},
   "outputs": [
    {
     "data": {
      "text/plain": [
       "0          bacon\n",
       "1    pulled pork\n",
       "2          bacon\n",
       "3       pastrami\n",
       "4    corned beef\n",
       "5          bacon\n",
       "6       pastrami\n",
       "7      honey ham\n",
       "8       nova lox\n",
       "Name: food, dtype: object"
      ]
     },
     "execution_count": 31,
     "metadata": {},
     "output_type": "execute_result"
    }
   ],
   "source": [
    "lowercased"
   ]
  },
  {
   "cell_type": "code",
   "execution_count": 32,
   "metadata": {},
   "outputs": [],
   "source": [
    "data['animal'] = lowercased.map(meat_to_animal)"
   ]
  },
  {
   "cell_type": "code",
   "execution_count": 33,
   "metadata": {},
   "outputs": [
    {
     "data": {
      "text/html": [
       "<div>\n",
       "<style scoped>\n",
       "    .dataframe tbody tr th:only-of-type {\n",
       "        vertical-align: middle;\n",
       "    }\n",
       "\n",
       "    .dataframe tbody tr th {\n",
       "        vertical-align: top;\n",
       "    }\n",
       "\n",
       "    .dataframe thead th {\n",
       "        text-align: right;\n",
       "    }\n",
       "</style>\n",
       "<table border=\"1\" class=\"dataframe\">\n",
       "  <thead>\n",
       "    <tr style=\"text-align: right;\">\n",
       "      <th></th>\n",
       "      <th>food</th>\n",
       "      <th>ounces</th>\n",
       "      <th>animal</th>\n",
       "    </tr>\n",
       "  </thead>\n",
       "  <tbody>\n",
       "    <tr>\n",
       "      <th>0</th>\n",
       "      <td>bacon</td>\n",
       "      <td>4.0</td>\n",
       "      <td>pig</td>\n",
       "    </tr>\n",
       "    <tr>\n",
       "      <th>1</th>\n",
       "      <td>pulled pork</td>\n",
       "      <td>3.0</td>\n",
       "      <td>pig</td>\n",
       "    </tr>\n",
       "    <tr>\n",
       "      <th>2</th>\n",
       "      <td>bacon</td>\n",
       "      <td>12.0</td>\n",
       "      <td>pig</td>\n",
       "    </tr>\n",
       "    <tr>\n",
       "      <th>3</th>\n",
       "      <td>Pastrami</td>\n",
       "      <td>6.0</td>\n",
       "      <td>cow</td>\n",
       "    </tr>\n",
       "    <tr>\n",
       "      <th>4</th>\n",
       "      <td>corned beef</td>\n",
       "      <td>7.5</td>\n",
       "      <td>cow</td>\n",
       "    </tr>\n",
       "    <tr>\n",
       "      <th>5</th>\n",
       "      <td>Bacon</td>\n",
       "      <td>8.0</td>\n",
       "      <td>pig</td>\n",
       "    </tr>\n",
       "    <tr>\n",
       "      <th>6</th>\n",
       "      <td>pastrami</td>\n",
       "      <td>3.0</td>\n",
       "      <td>cow</td>\n",
       "    </tr>\n",
       "    <tr>\n",
       "      <th>7</th>\n",
       "      <td>honey ham</td>\n",
       "      <td>5.0</td>\n",
       "      <td>pig</td>\n",
       "    </tr>\n",
       "    <tr>\n",
       "      <th>8</th>\n",
       "      <td>nova lox</td>\n",
       "      <td>6.0</td>\n",
       "      <td>salmon</td>\n",
       "    </tr>\n",
       "  </tbody>\n",
       "</table>\n",
       "</div>"
      ],
      "text/plain": [
       "          food  ounces  animal\n",
       "0        bacon     4.0     pig\n",
       "1  pulled pork     3.0     pig\n",
       "2        bacon    12.0     pig\n",
       "3     Pastrami     6.0     cow\n",
       "4  corned beef     7.5     cow\n",
       "5        Bacon     8.0     pig\n",
       "6     pastrami     3.0     cow\n",
       "7    honey ham     5.0     pig\n",
       "8     nova lox     6.0  salmon"
      ]
     },
     "execution_count": 33,
     "metadata": {},
     "output_type": "execute_result"
    }
   ],
   "source": [
    "data"
   ]
  },
  {
   "cell_type": "code",
   "execution_count": 34,
   "metadata": {},
   "outputs": [
    {
     "data": {
      "text/plain": [
       "0       pig\n",
       "1       pig\n",
       "2       pig\n",
       "3       cow\n",
       "4       cow\n",
       "5       pig\n",
       "6       cow\n",
       "7       pig\n",
       "8    salmon\n",
       "Name: food, dtype: object"
      ]
     },
     "execution_count": 34,
     "metadata": {},
     "output_type": "execute_result"
    }
   ],
   "source": [
    "data['food'].map(lambda x: meat_to_animal[x.lower()])"
   ]
  },
  {
   "cell_type": "markdown",
   "metadata": {},
   "source": [
    "## Replacing Values"
   ]
  },
  {
   "cell_type": "code",
   "execution_count": 2,
   "metadata": {},
   "outputs": [],
   "source": [
    "data = pd.Series([1., -999., 2., -999, -1000., 3.]) # -999. is a sentinel for missing data."
   ]
  },
  {
   "cell_type": "code",
   "execution_count": 3,
   "metadata": {},
   "outputs": [
    {
     "data": {
      "text/plain": [
       "0       1.0\n",
       "1    -999.0\n",
       "2       2.0\n",
       "3    -999.0\n",
       "4   -1000.0\n",
       "5       3.0\n",
       "dtype: float64"
      ]
     },
     "execution_count": 3,
     "metadata": {},
     "output_type": "execute_result"
    }
   ],
   "source": [
    "data"
   ]
  },
  {
   "cell_type": "code",
   "execution_count": 9,
   "metadata": {},
   "outputs": [
    {
     "data": {
      "text/plain": [
       "0       1.0\n",
       "1       NaN\n",
       "2       2.0\n",
       "3       NaN\n",
       "4   -1000.0\n",
       "5       3.0\n",
       "dtype: float64"
      ]
     },
     "execution_count": 9,
     "metadata": {},
     "output_type": "execute_result"
    }
   ],
   "source": [
    "data.replace(-999., np.nan) # we use replace function to replace -999. to NaN."
   ]
  },
  {
   "cell_type": "code",
   "execution_count": 11,
   "metadata": {},
   "outputs": [
    {
     "data": {
      "text/plain": [
       "0    1.0\n",
       "1    NaN\n",
       "2    2.0\n",
       "3    NaN\n",
       "4    NaN\n",
       "5    3.0\n",
       "dtype: float64"
      ]
     },
     "execution_count": 11,
     "metadata": {},
     "output_type": "execute_result"
    }
   ],
   "source": [
    "data.replace([-999., -1000.], np.nan) # replacing multiple values by passing a list."
   ]
  },
  {
   "cell_type": "code",
   "execution_count": 13,
   "metadata": {},
   "outputs": [
    {
     "data": {
      "text/plain": [
       "0    1.0\n",
       "1    NaN\n",
       "2    2.0\n",
       "3    NaN\n",
       "4    0.0\n",
       "5    3.0\n",
       "dtype: float64"
      ]
     },
     "execution_count": 13,
     "metadata": {},
     "output_type": "execute_result"
    }
   ],
   "source": [
    "data.replace({-999.: np.nan, -1000.: 0}) # we can replace values using dictionary also."
   ]
  },
  {
   "cell_type": "markdown",
   "metadata": {},
   "source": [
    "## Renaming Axis Indexing"
   ]
  },
  {
   "cell_type": "code",
   "execution_count": 14,
   "metadata": {},
   "outputs": [],
   "source": [
    "data = pd.DataFrame(np.arange(12).reshape((3, 4)), \n",
    "                    index=['Ohio', 'Colorado', 'New York'], \n",
    "                    columns=['one', 'two', 'three', 'four'])"
   ]
  },
  {
   "cell_type": "code",
   "execution_count": 15,
   "metadata": {},
   "outputs": [
    {
     "data": {
      "text/html": [
       "<div>\n",
       "<style scoped>\n",
       "    .dataframe tbody tr th:only-of-type {\n",
       "        vertical-align: middle;\n",
       "    }\n",
       "\n",
       "    .dataframe tbody tr th {\n",
       "        vertical-align: top;\n",
       "    }\n",
       "\n",
       "    .dataframe thead th {\n",
       "        text-align: right;\n",
       "    }\n",
       "</style>\n",
       "<table border=\"1\" class=\"dataframe\">\n",
       "  <thead>\n",
       "    <tr style=\"text-align: right;\">\n",
       "      <th></th>\n",
       "      <th>one</th>\n",
       "      <th>two</th>\n",
       "      <th>three</th>\n",
       "      <th>four</th>\n",
       "    </tr>\n",
       "  </thead>\n",
       "  <tbody>\n",
       "    <tr>\n",
       "      <th>Ohio</th>\n",
       "      <td>0</td>\n",
       "      <td>1</td>\n",
       "      <td>2</td>\n",
       "      <td>3</td>\n",
       "    </tr>\n",
       "    <tr>\n",
       "      <th>Colorado</th>\n",
       "      <td>4</td>\n",
       "      <td>5</td>\n",
       "      <td>6</td>\n",
       "      <td>7</td>\n",
       "    </tr>\n",
       "    <tr>\n",
       "      <th>New York</th>\n",
       "      <td>8</td>\n",
       "      <td>9</td>\n",
       "      <td>10</td>\n",
       "      <td>11</td>\n",
       "    </tr>\n",
       "  </tbody>\n",
       "</table>\n",
       "</div>"
      ],
      "text/plain": [
       "          one  two  three  four\n",
       "Ohio        0    1      2     3\n",
       "Colorado    4    5      6     7\n",
       "New York    8    9     10    11"
      ]
     },
     "execution_count": 15,
     "metadata": {},
     "output_type": "execute_result"
    }
   ],
   "source": [
    "data"
   ]
  },
  {
   "cell_type": "code",
   "execution_count": 17,
   "metadata": {},
   "outputs": [],
   "source": [
    "transform = lambda x: x[:4].upper() # creating a anonymous function to transform axis."
   ]
  },
  {
   "cell_type": "code",
   "execution_count": 18,
   "metadata": {},
   "outputs": [
    {
     "data": {
      "text/plain": [
       "Index(['OHIO', 'COLO', 'NEW '], dtype='object')"
      ]
     },
     "execution_count": 18,
     "metadata": {},
     "output_type": "execute_result"
    }
   ],
   "source": [
    "data.index.map(transform)"
   ]
  },
  {
   "cell_type": "code",
   "execution_count": 27,
   "metadata": {},
   "outputs": [],
   "source": [
    "data.index = data.index.map(transform) # assigning new indexes permanently."
   ]
  },
  {
   "cell_type": "code",
   "execution_count": 28,
   "metadata": {},
   "outputs": [
    {
     "data": {
      "text/html": [
       "<div>\n",
       "<style scoped>\n",
       "    .dataframe tbody tr th:only-of-type {\n",
       "        vertical-align: middle;\n",
       "    }\n",
       "\n",
       "    .dataframe tbody tr th {\n",
       "        vertical-align: top;\n",
       "    }\n",
       "\n",
       "    .dataframe thead th {\n",
       "        text-align: right;\n",
       "    }\n",
       "</style>\n",
       "<table border=\"1\" class=\"dataframe\">\n",
       "  <thead>\n",
       "    <tr style=\"text-align: right;\">\n",
       "      <th></th>\n",
       "      <th>one</th>\n",
       "      <th>two</th>\n",
       "      <th>three</th>\n",
       "      <th>four</th>\n",
       "    </tr>\n",
       "  </thead>\n",
       "  <tbody>\n",
       "    <tr>\n",
       "      <th>OHIO</th>\n",
       "      <td>0</td>\n",
       "      <td>1</td>\n",
       "      <td>2</td>\n",
       "      <td>3</td>\n",
       "    </tr>\n",
       "    <tr>\n",
       "      <th>COLO</th>\n",
       "      <td>4</td>\n",
       "      <td>5</td>\n",
       "      <td>6</td>\n",
       "      <td>7</td>\n",
       "    </tr>\n",
       "    <tr>\n",
       "      <th>NEW</th>\n",
       "      <td>8</td>\n",
       "      <td>9</td>\n",
       "      <td>10</td>\n",
       "      <td>11</td>\n",
       "    </tr>\n",
       "  </tbody>\n",
       "</table>\n",
       "</div>"
      ],
      "text/plain": [
       "      one  two  three  four\n",
       "OHIO    0    1      2     3\n",
       "COLO    4    5      6     7\n",
       "NEW     8    9     10    11"
      ]
     },
     "execution_count": 28,
     "metadata": {},
     "output_type": "execute_result"
    }
   ],
   "source": [
    "data"
   ]
  },
  {
   "cell_type": "code",
   "execution_count": 29,
   "metadata": {},
   "outputs": [
    {
     "data": {
      "text/html": [
       "<div>\n",
       "<style scoped>\n",
       "    .dataframe tbody tr th:only-of-type {\n",
       "        vertical-align: middle;\n",
       "    }\n",
       "\n",
       "    .dataframe tbody tr th {\n",
       "        vertical-align: top;\n",
       "    }\n",
       "\n",
       "    .dataframe thead th {\n",
       "        text-align: right;\n",
       "    }\n",
       "</style>\n",
       "<table border=\"1\" class=\"dataframe\">\n",
       "  <thead>\n",
       "    <tr style=\"text-align: right;\">\n",
       "      <th></th>\n",
       "      <th>ONE</th>\n",
       "      <th>TWO</th>\n",
       "      <th>THREE</th>\n",
       "      <th>FOUR</th>\n",
       "    </tr>\n",
       "  </thead>\n",
       "  <tbody>\n",
       "    <tr>\n",
       "      <th>Ohio</th>\n",
       "      <td>0</td>\n",
       "      <td>1</td>\n",
       "      <td>2</td>\n",
       "      <td>3</td>\n",
       "    </tr>\n",
       "    <tr>\n",
       "      <th>Colo</th>\n",
       "      <td>4</td>\n",
       "      <td>5</td>\n",
       "      <td>6</td>\n",
       "      <td>7</td>\n",
       "    </tr>\n",
       "    <tr>\n",
       "      <th>New</th>\n",
       "      <td>8</td>\n",
       "      <td>9</td>\n",
       "      <td>10</td>\n",
       "      <td>11</td>\n",
       "    </tr>\n",
       "  </tbody>\n",
       "</table>\n",
       "</div>"
      ],
      "text/plain": [
       "      ONE  TWO  THREE  FOUR\n",
       "Ohio    0    1      2     3\n",
       "Colo    4    5      6     7\n",
       "New     8    9     10    11"
      ]
     },
     "execution_count": 29,
     "metadata": {},
     "output_type": "execute_result"
    }
   ],
   "source": [
    "data.rename(index=str.title, columns=str.upper) # renaming without touching the original."
   ]
  },
  {
   "cell_type": "code",
   "execution_count": 32,
   "metadata": {},
   "outputs": [
    {
     "data": {
      "text/html": [
       "<div>\n",
       "<style scoped>\n",
       "    .dataframe tbody tr th:only-of-type {\n",
       "        vertical-align: middle;\n",
       "    }\n",
       "\n",
       "    .dataframe tbody tr th {\n",
       "        vertical-align: top;\n",
       "    }\n",
       "\n",
       "    .dataframe thead th {\n",
       "        text-align: right;\n",
       "    }\n",
       "</style>\n",
       "<table border=\"1\" class=\"dataframe\">\n",
       "  <thead>\n",
       "    <tr style=\"text-align: right;\">\n",
       "      <th></th>\n",
       "      <th>one</th>\n",
       "      <th>two</th>\n",
       "      <th>pikaboo</th>\n",
       "      <th>four</th>\n",
       "    </tr>\n",
       "  </thead>\n",
       "  <tbody>\n",
       "    <tr>\n",
       "      <th>INDIANA</th>\n",
       "      <td>0</td>\n",
       "      <td>1</td>\n",
       "      <td>2</td>\n",
       "      <td>3</td>\n",
       "    </tr>\n",
       "    <tr>\n",
       "      <th>COLO</th>\n",
       "      <td>4</td>\n",
       "      <td>5</td>\n",
       "      <td>6</td>\n",
       "      <td>7</td>\n",
       "    </tr>\n",
       "    <tr>\n",
       "      <th>NEW</th>\n",
       "      <td>8</td>\n",
       "      <td>9</td>\n",
       "      <td>10</td>\n",
       "      <td>11</td>\n",
       "    </tr>\n",
       "  </tbody>\n",
       "</table>\n",
       "</div>"
      ],
      "text/plain": [
       "         one  two  pikaboo  four\n",
       "INDIANA    0    1        2     3\n",
       "COLO       4    5        6     7\n",
       "NEW        8    9       10    11"
      ]
     },
     "execution_count": 32,
     "metadata": {},
     "output_type": "execute_result"
    }
   ],
   "source": [
    "data.rename(index={'OHIO':'INDIANA'},\n",
    "           columns={'three':'pikaboo'}) # changing indexes and columns with rename function."
   ]
  },
  {
   "cell_type": "code",
   "execution_count": 37,
   "metadata": {},
   "outputs": [],
   "source": [
    "data.rename(index={'OHIO': 'INDIANA'}, inplace=True)"
   ]
  },
  {
   "cell_type": "code",
   "execution_count": 38,
   "metadata": {},
   "outputs": [
    {
     "data": {
      "text/html": [
       "<div>\n",
       "<style scoped>\n",
       "    .dataframe tbody tr th:only-of-type {\n",
       "        vertical-align: middle;\n",
       "    }\n",
       "\n",
       "    .dataframe tbody tr th {\n",
       "        vertical-align: top;\n",
       "    }\n",
       "\n",
       "    .dataframe thead th {\n",
       "        text-align: right;\n",
       "    }\n",
       "</style>\n",
       "<table border=\"1\" class=\"dataframe\">\n",
       "  <thead>\n",
       "    <tr style=\"text-align: right;\">\n",
       "      <th></th>\n",
       "      <th>one</th>\n",
       "      <th>two</th>\n",
       "      <th>three</th>\n",
       "      <th>four</th>\n",
       "    </tr>\n",
       "  </thead>\n",
       "  <tbody>\n",
       "    <tr>\n",
       "      <th>INDIANA</th>\n",
       "      <td>0</td>\n",
       "      <td>1</td>\n",
       "      <td>2</td>\n",
       "      <td>3</td>\n",
       "    </tr>\n",
       "    <tr>\n",
       "      <th>COLO</th>\n",
       "      <td>4</td>\n",
       "      <td>5</td>\n",
       "      <td>6</td>\n",
       "      <td>7</td>\n",
       "    </tr>\n",
       "    <tr>\n",
       "      <th>NEW</th>\n",
       "      <td>8</td>\n",
       "      <td>9</td>\n",
       "      <td>10</td>\n",
       "      <td>11</td>\n",
       "    </tr>\n",
       "  </tbody>\n",
       "</table>\n",
       "</div>"
      ],
      "text/plain": [
       "         one  two  three  four\n",
       "INDIANA    0    1      2     3\n",
       "COLO       4    5      6     7\n",
       "NEW        8    9     10    11"
      ]
     },
     "execution_count": 38,
     "metadata": {},
     "output_type": "execute_result"
    }
   ],
   "source": [
    "data"
   ]
  },
  {
   "cell_type": "markdown",
   "metadata": {},
   "source": [
    "## Discretization and Binning"
   ]
  },
  {
   "cell_type": "code",
   "execution_count": 39,
   "metadata": {},
   "outputs": [],
   "source": [
    "ages = [20, 22, 25, 27, 21, 23, 37, 31, 61, 45, 41, 32]"
   ]
  },
  {
   "cell_type": "code",
   "execution_count": 40,
   "metadata": {},
   "outputs": [],
   "source": [
    "bins = [18, 25, 35, 60, 100]"
   ]
  },
  {
   "cell_type": "code",
   "execution_count": 41,
   "metadata": {},
   "outputs": [],
   "source": [
    "cats = pd.cut(ages, bins)"
   ]
  },
  {
   "cell_type": "code",
   "execution_count": 42,
   "metadata": {},
   "outputs": [
    {
     "data": {
      "text/plain": [
       "[(18, 25], (18, 25], (18, 25], (25, 35], (18, 25], ..., (25, 35], (60, 100], (35, 60], (35, 60], (25, 35]]\n",
       "Length: 12\n",
       "Categories (4, interval[int64]): [(18, 25] < (25, 35] < (35, 60] < (60, 100]]"
      ]
     },
     "execution_count": 42,
     "metadata": {},
     "output_type": "execute_result"
    }
   ],
   "source": [
    "cats"
   ]
  },
  {
   "cell_type": "code",
   "execution_count": 44,
   "metadata": {},
   "outputs": [
    {
     "data": {
      "text/plain": [
       "array([0, 0, 0, 1, 0, 0, 2, 1, 3, 2, 2, 1], dtype=int8)"
      ]
     },
     "execution_count": 44,
     "metadata": {},
     "output_type": "execute_result"
    }
   ],
   "source": [
    "cats.codes"
   ]
  },
  {
   "cell_type": "code",
   "execution_count": 45,
   "metadata": {},
   "outputs": [
    {
     "data": {
      "text/plain": [
       "IntervalIndex([(18, 25], (25, 35], (35, 60], (60, 100]],\n",
       "              closed='right',\n",
       "              dtype='interval[int64]')"
      ]
     },
     "execution_count": 45,
     "metadata": {},
     "output_type": "execute_result"
    }
   ],
   "source": [
    "cats.categories"
   ]
  },
  {
   "cell_type": "code",
   "execution_count": 48,
   "metadata": {
    "scrolled": true
   },
   "outputs": [
    {
     "data": {
      "text/plain": [
       "(18, 25]     5\n",
       "(35, 60]     3\n",
       "(25, 35]     3\n",
       "(60, 100]    1\n",
       "dtype: int64"
      ]
     },
     "execution_count": 48,
     "metadata": {},
     "output_type": "execute_result"
    }
   ],
   "source": [
    "pd.value_counts(cats)"
   ]
  },
  {
   "cell_type": "code",
   "execution_count": 49,
   "metadata": {},
   "outputs": [
    {
     "data": {
      "text/plain": [
       "[[18, 26), [18, 26), [18, 26), [26, 36), [18, 26), ..., [26, 36), [61, 100), [36, 61), [36, 61), [26, 36)]\n",
       "Length: 12\n",
       "Categories (4, interval[int64]): [[18, 26) < [26, 36) < [36, 61) < [61, 100)]"
      ]
     },
     "execution_count": 49,
     "metadata": {},
     "output_type": "execute_result"
    }
   ],
   "source": [
    "pd.cut(ages, [18, 26, 36, 61, 100], right=False)"
   ]
  },
  {
   "cell_type": "code",
   "execution_count": 50,
   "metadata": {},
   "outputs": [],
   "source": [
    "group_names = ['Youth', 'YoungAdult', 'MiddleAged', 'Senior']"
   ]
  },
  {
   "cell_type": "code",
   "execution_count": 52,
   "metadata": {},
   "outputs": [
    {
     "data": {
      "text/plain": [
       "['Youth', 'Youth', 'Youth', 'YoungAdult', 'Youth', ..., 'YoungAdult', 'Senior', 'MiddleAged', 'MiddleAged', 'YoungAdult']\n",
       "Length: 12\n",
       "Categories (4, object): ['Youth' < 'YoungAdult' < 'MiddleAged' < 'Senior']"
      ]
     },
     "execution_count": 52,
     "metadata": {},
     "output_type": "execute_result"
    }
   ],
   "source": [
    "pd.cut(ages, bins, labels=group_names)"
   ]
  },
  {
   "cell_type": "code",
   "execution_count": 53,
   "metadata": {},
   "outputs": [],
   "source": [
    "data = np.random.rand(20)"
   ]
  },
  {
   "cell_type": "code",
   "execution_count": 54,
   "metadata": {},
   "outputs": [
    {
     "data": {
      "text/plain": [
       "array([0.21521849, 0.77235544, 0.07436551, 0.53760688, 0.77327358,\n",
       "       0.88879537, 0.1495218 , 0.09576878, 0.44817088, 0.9773774 ,\n",
       "       0.50867407, 0.26865711, 0.6873588 , 0.19743979, 0.53747308,\n",
       "       0.20123675, 0.74922249, 0.33671289, 0.28015721, 0.58287999])"
      ]
     },
     "execution_count": 54,
     "metadata": {},
     "output_type": "execute_result"
    }
   ],
   "source": [
    "data"
   ]
  },
  {
   "cell_type": "code",
   "execution_count": 55,
   "metadata": {},
   "outputs": [
    {
     "data": {
      "text/plain": [
       "[(0.073, 0.3], (0.75, 0.98], (0.073, 0.3], (0.53, 0.75], (0.75, 0.98], ..., (0.073, 0.3], (0.53, 0.75], (0.3, 0.53], (0.073, 0.3], (0.53, 0.75]]\n",
       "Length: 20\n",
       "Categories (4, interval[float64]): [(0.073, 0.3] < (0.3, 0.53] < (0.53, 0.75] < (0.75, 0.98]]"
      ]
     },
     "execution_count": 55,
     "metadata": {},
     "output_type": "execute_result"
    }
   ],
   "source": [
    "pd.cut(data, 4, precision=2)"
   ]
  },
  {
   "cell_type": "code",
   "execution_count": 56,
   "metadata": {},
   "outputs": [],
   "source": [
    "data = np.random.rand(1000)"
   ]
  },
  {
   "cell_type": "code",
   "execution_count": 71,
   "metadata": {},
   "outputs": [
    {
     "data": {
      "text/plain": [
       "array([8.56047967e-01, 9.53926787e-01, 5.56366987e-01, 2.73550496e-02,\n",
       "       4.20852927e-01, 6.80652846e-01, 7.37158823e-01, 8.33352845e-01,\n",
       "       1.19236474e-01, 7.03572433e-01, 7.54293317e-01, 9.36458165e-01,\n",
       "       8.62839201e-02, 5.64171076e-01, 2.61214550e-01, 9.55564969e-01,\n",
       "       9.40305088e-01, 5.06272107e-01, 9.53555237e-01, 5.08595350e-01,\n",
       "       7.46671696e-01, 8.02966365e-01, 4.41659080e-01, 9.17778211e-01,\n",
       "       8.76671356e-01, 2.74668601e-01, 6.90532947e-01, 7.92115929e-01,\n",
       "       9.65670770e-01, 6.94418617e-01, 2.40041559e-01, 1.78881800e-02,\n",
       "       7.86778127e-01, 8.19227453e-01, 4.38746792e-01, 7.26023465e-01,\n",
       "       7.12490309e-01, 8.21586365e-01, 3.46315080e-01, 5.68370740e-01,\n",
       "       4.13999465e-01, 5.18449966e-01, 9.39155520e-01, 4.77386554e-01,\n",
       "       9.79209017e-01, 7.19206521e-02, 7.40312642e-01, 7.45711212e-02,\n",
       "       8.72369183e-01, 2.19305178e-01, 3.87745129e-01, 1.68955641e-01,\n",
       "       8.18453152e-01, 6.56081533e-01, 8.14519522e-04, 8.41343147e-01,\n",
       "       7.22165007e-01, 4.36427501e-01, 5.15258534e-01, 4.77360229e-01,\n",
       "       6.78146748e-01, 5.84814185e-01, 7.84947062e-01, 1.88073179e-01,\n",
       "       4.20774973e-01, 5.42592069e-01, 7.59118745e-01, 8.44099074e-01,\n",
       "       5.25178604e-01, 5.96611268e-01, 3.13919858e-01, 1.13369642e-01,\n",
       "       6.95335043e-02, 4.61654260e-02, 3.55495871e-04, 6.25720609e-01,\n",
       "       2.36974024e-01, 2.02597973e-01, 9.58806427e-01, 9.38041600e-01,\n",
       "       6.54713694e-01, 1.31881532e-01, 2.15169654e-01, 6.10992666e-01,\n",
       "       6.36459041e-01, 8.32097463e-01, 5.91388059e-01, 5.48587426e-01,\n",
       "       8.59684906e-01, 7.50301425e-02, 6.06559315e-01, 2.96965455e-02,\n",
       "       6.07122523e-01, 4.59082618e-01, 4.58422161e-01, 9.87634410e-02,\n",
       "       6.71845481e-01, 8.29014549e-01, 3.43142522e-01, 8.09225131e-01,\n",
       "       8.95644759e-01, 4.09994593e-01, 3.71097343e-01, 5.20410742e-01,\n",
       "       3.00132965e-01, 5.06411226e-01, 3.31311401e-01, 7.41771997e-01,\n",
       "       2.31765484e-01, 7.93637926e-01, 6.18674513e-01, 9.92601244e-01,\n",
       "       6.84888049e-01, 6.61694761e-01, 9.00476866e-01, 6.14327336e-01,\n",
       "       3.93714006e-01, 3.68680194e-01, 4.99656578e-01, 7.51571533e-01,\n",
       "       1.65227858e-01, 1.10034196e-02, 7.61663399e-01, 6.04513090e-01,\n",
       "       6.09106154e-01, 9.19396311e-01, 5.75624806e-02, 4.42075994e-01,\n",
       "       4.59159684e-02, 7.13054069e-01, 8.38402078e-01, 5.76232950e-01,\n",
       "       5.73153083e-01, 4.86571024e-01, 6.86744521e-01, 9.74655729e-01,\n",
       "       3.20581550e-01, 8.32477196e-01, 4.85603092e-01, 6.62350872e-01,\n",
       "       4.26457919e-01, 5.97840519e-01, 4.63539445e-01, 3.17863356e-01,\n",
       "       3.78281887e-01, 6.67089460e-01, 8.29478343e-02, 1.33105000e-01,\n",
       "       4.47121702e-01, 5.81769471e-01, 3.35182505e-01, 6.54172720e-01,\n",
       "       7.14977290e-01, 6.73924259e-01, 9.64666352e-02, 6.24509191e-01,\n",
       "       7.87818960e-01, 4.43610465e-01, 8.18524614e-01, 8.96548646e-01,\n",
       "       1.06642905e-05, 1.41363771e-01, 2.85533307e-01, 3.18479700e-01,\n",
       "       5.36513918e-01, 5.27522466e-01, 4.22243760e-01, 6.20016539e-01,\n",
       "       7.41430305e-01, 1.23650232e-01, 4.89499987e-01, 5.92040685e-01,\n",
       "       8.96966131e-01, 3.99862275e-01, 5.04111078e-01, 9.03108356e-01,\n",
       "       9.05102201e-01, 4.11341679e-01, 4.79182632e-01, 2.07721967e-01,\n",
       "       5.74186068e-01, 3.40978159e-01, 3.29630793e-01, 5.61370797e-01,\n",
       "       1.96300687e-01, 8.29551171e-01, 2.37950558e-01, 5.53194752e-01,\n",
       "       9.80111919e-02, 9.84718357e-01, 7.91626220e-01, 1.33145702e-01,\n",
       "       7.50537827e-01, 3.79322490e-02, 7.00341134e-01, 4.73337232e-01,\n",
       "       9.74485850e-02, 6.98803385e-01, 8.77871766e-01, 7.11695148e-01,\n",
       "       6.76248659e-02, 3.29981303e-01, 4.88163989e-01, 4.85663401e-01,\n",
       "       2.39853666e-01, 3.04971829e-01, 4.14766985e-01, 1.69609746e-01,\n",
       "       9.98313506e-01, 4.16591892e-01, 8.18676874e-01, 6.68377799e-01,\n",
       "       9.11744472e-01, 8.45635461e-01, 8.11929496e-02, 5.43761233e-01,\n",
       "       7.24600818e-01, 2.19794680e-01, 8.05124592e-01, 1.37489070e-02,\n",
       "       3.99900049e-01, 2.99695266e-01, 9.41454091e-02, 2.32188175e-01,\n",
       "       7.07694216e-01, 5.63265374e-01, 3.17512025e-01, 5.76388452e-01,\n",
       "       7.09188626e-01, 6.77218068e-01, 4.47772331e-01, 2.48997551e-01,\n",
       "       9.16029637e-01, 5.13299389e-01, 8.14618211e-01, 7.52512067e-01,\n",
       "       3.09366466e-01, 6.88622869e-01, 2.43216653e-01, 5.19824425e-01,\n",
       "       9.59591534e-01, 2.47925545e-01, 8.14233912e-01, 2.82736278e-02,\n",
       "       5.21665624e-01, 8.41360741e-02, 5.80799223e-01, 4.77242630e-01,\n",
       "       4.38013598e-01, 9.60934252e-01, 9.84487170e-01, 3.18850568e-01,\n",
       "       2.73311732e-01, 6.43980992e-01, 5.68765613e-01, 5.27305189e-01,\n",
       "       5.29998850e-01, 2.09461148e-01, 2.19087058e-01, 4.23820408e-01,\n",
       "       8.46651246e-01, 5.90869133e-01, 8.86803809e-02, 4.64130716e-01,\n",
       "       2.61492263e-01, 6.60971802e-01, 8.97886770e-01, 3.56305656e-01,\n",
       "       4.71421480e-02, 6.58797916e-01, 1.56837575e-01, 1.26811419e-01,\n",
       "       8.29035928e-01, 1.00657191e-01, 9.19169670e-01, 8.37046017e-01,\n",
       "       4.20211068e-01, 4.18839126e-01, 2.35371980e-01, 5.77438276e-01,\n",
       "       2.10655442e-01, 5.00227667e-01, 5.88855627e-01, 3.23064823e-01,\n",
       "       3.22974117e-01, 1.34607233e-01, 6.50794654e-01, 1.48363918e-01,\n",
       "       3.61237040e-01, 8.16111494e-01, 2.43511280e-01, 8.59746618e-01,\n",
       "       2.68626195e-01, 7.04282603e-01, 1.33653413e-01, 2.04150210e-01,\n",
       "       3.97614141e-01, 5.53149877e-01, 3.56497337e-03, 3.17556221e-01,\n",
       "       4.58505625e-01, 1.70270528e-01, 1.23793307e-01, 4.07715524e-01,\n",
       "       6.59347149e-01, 6.55300359e-01, 4.50484393e-01, 7.20282586e-01,\n",
       "       3.11040381e-01, 4.03660492e-01, 7.07236528e-01, 1.21621193e-01,\n",
       "       3.24845719e-01, 9.37885421e-01, 3.95554989e-01, 4.92980172e-01,\n",
       "       9.65779560e-01, 7.88718454e-01, 2.57704521e-01, 2.93395754e-01,\n",
       "       4.17961235e-01, 6.73674647e-02, 7.21633752e-02, 8.51391714e-02,\n",
       "       9.66397103e-01, 5.38870881e-01, 1.34904177e-01, 7.82979227e-01,\n",
       "       7.32701836e-01, 4.32380896e-02, 1.25571621e-01, 5.67285062e-01,\n",
       "       1.42075533e-01, 8.68161799e-01, 8.25782888e-01, 9.76665835e-01,\n",
       "       4.73792667e-01, 6.56848578e-01, 7.41471795e-01, 9.94838067e-01,\n",
       "       6.02336274e-01, 6.13684335e-01, 3.55011958e-01, 1.78485306e-01,\n",
       "       4.82651936e-01, 2.42467370e-01, 2.76607519e-01, 3.06140209e-01,\n",
       "       6.19072897e-01, 4.68203010e-01, 8.72619246e-01, 5.46803020e-01,\n",
       "       9.04913465e-01, 4.08755155e-02, 4.34358846e-01, 1.47971859e-01,\n",
       "       4.55057974e-01, 7.03945854e-01, 1.98898064e-01, 4.43711598e-01,\n",
       "       3.15369786e-01, 6.70279631e-01, 1.94485783e-01, 7.74994970e-01,\n",
       "       2.28161743e-01, 6.68809104e-01, 9.28163339e-02, 2.88659334e-01,\n",
       "       6.89725157e-01, 5.61289092e-01, 3.43278164e-01, 2.62824774e-01,\n",
       "       7.95456835e-01, 4.85288782e-01, 8.99705686e-01, 4.01892517e-01,\n",
       "       4.50843598e-01, 9.27724166e-01, 7.25353054e-01, 7.54172064e-01,\n",
       "       7.17720310e-01, 4.06746146e-01, 4.32529565e-01, 8.03756099e-01,\n",
       "       6.64628846e-01, 4.76538470e-01, 8.37873665e-01, 4.99184301e-01,\n",
       "       4.20400864e-01, 3.57317609e-01, 5.24241695e-01, 9.41084356e-01,\n",
       "       5.15986432e-01, 6.18305227e-01, 7.40709290e-01, 4.23314929e-01,\n",
       "       5.23605588e-01, 3.48119495e-01, 6.18817219e-02, 3.87483911e-01,\n",
       "       5.15208823e-01, 8.07428499e-01, 5.80300956e-01, 6.54811536e-01,\n",
       "       6.95743106e-01, 7.63054458e-01, 4.90668538e-01, 6.99660151e-01,\n",
       "       7.36167629e-01, 4.78297551e-01, 8.06784299e-01, 8.06584711e-01,\n",
       "       3.08176533e-02, 1.07343846e-01, 6.28952423e-01, 7.47504702e-01,\n",
       "       2.45071349e-02, 2.71780951e-01, 1.98995691e-01, 2.68316478e-01,\n",
       "       5.95817812e-01, 6.66665417e-01, 6.16873173e-01, 3.93340817e-01,\n",
       "       5.33608591e-01, 2.59527275e-01, 7.06606271e-01, 6.51669473e-01,\n",
       "       4.50659558e-01, 6.31741016e-01, 4.45098953e-01, 2.31375196e-01,\n",
       "       2.20457974e-01, 5.28810717e-01, 5.71172840e-01, 9.46364514e-01,\n",
       "       6.59611474e-01, 9.10276071e-01, 5.30701871e-01, 4.34360865e-01,\n",
       "       5.34965945e-01, 2.84633640e-01, 2.87875099e-01, 7.19153100e-01,\n",
       "       7.10426379e-01, 7.24986906e-01, 7.96445490e-01, 7.15652789e-01,\n",
       "       3.61980457e-02, 6.65559366e-01, 7.58772778e-01, 4.57219801e-01,\n",
       "       6.85725793e-01, 5.69899151e-01, 6.86355006e-01, 8.51521635e-01,\n",
       "       4.38682326e-01, 3.79698263e-01, 6.01085770e-02, 1.11207262e-01,\n",
       "       4.64090140e-01, 6.98270946e-01, 7.25802151e-01, 2.19124789e-01,\n",
       "       7.23016517e-01, 8.68226591e-01, 8.97490924e-01, 5.93953428e-01,\n",
       "       4.79800824e-02, 5.44420993e-01, 7.46548035e-01, 2.59448945e-01,\n",
       "       1.85795316e-01, 2.46498154e-01, 1.70012133e-01, 7.31743703e-01,\n",
       "       9.09224480e-01, 6.90256981e-01, 8.14727345e-02, 6.29917965e-01,\n",
       "       6.30223947e-01, 9.61859252e-01, 6.88017103e-01, 6.24547239e-01,\n",
       "       2.10733459e-01, 9.01619385e-01, 5.40927524e-01, 6.21982909e-01,\n",
       "       6.41171180e-01, 5.11949459e-01, 5.23395624e-01, 2.02537070e-01,\n",
       "       8.66059745e-01, 3.57046882e-01, 9.93097394e-01, 5.17314015e-01,\n",
       "       2.11883161e-02, 8.32978129e-01, 7.22131278e-01, 9.39791866e-01,\n",
       "       1.46717675e-01, 2.56864584e-01, 8.50322252e-01, 5.23711367e-01,\n",
       "       5.30353758e-01, 9.24629874e-01, 6.24136966e-01, 1.77690191e-01,\n",
       "       1.66294670e-01, 7.57065689e-01, 6.20162522e-01, 7.21011856e-02,\n",
       "       7.86598800e-01, 4.63467973e-01, 1.90545047e-01, 6.45373880e-01,\n",
       "       3.01923640e-01, 3.23488486e-01, 6.51648346e-02, 6.00503517e-01,\n",
       "       3.09958813e-02, 9.94017695e-01, 9.23647409e-01, 2.34824613e-01,\n",
       "       7.61529087e-01, 4.58059417e-01, 5.16130089e-01, 7.08838021e-01,\n",
       "       2.51767375e-01, 5.91753055e-01, 1.25974336e-01, 1.45942092e-01,\n",
       "       8.95441597e-01, 3.03528346e-01, 6.82684914e-01, 5.30811944e-01,\n",
       "       1.18139882e-01, 6.74063778e-02, 8.76797790e-01, 5.89426109e-01,\n",
       "       5.62762472e-01, 7.06589868e-01, 1.94518854e-01, 2.27320998e-01,\n",
       "       9.22510023e-01, 1.75318751e-01, 1.35359421e-01, 1.02240423e-01,\n",
       "       5.17699377e-01, 6.92723364e-01, 6.07698218e-01, 2.98828522e-02,\n",
       "       1.84051681e-01, 6.99575642e-01, 5.57938220e-01, 1.75445049e-01,\n",
       "       6.56378689e-01, 5.30017544e-01, 4.89074882e-01, 1.54759890e-01,\n",
       "       8.42467706e-01, 5.18656018e-01, 9.33997500e-01, 4.11266573e-01,\n",
       "       1.46772159e-01, 2.73189756e-01, 9.25187269e-01, 7.25650618e-01,\n",
       "       4.23497425e-01, 7.78579330e-01, 1.24447649e-02, 5.66200655e-01,\n",
       "       9.74431904e-02, 7.48474625e-01, 3.32527498e-01, 5.66246756e-01,\n",
       "       3.77407427e-01, 3.80445906e-01, 5.98978602e-01, 5.21229435e-01,\n",
       "       3.55996078e-01, 8.26968317e-01, 9.56646313e-01, 6.10390274e-02,\n",
       "       8.36779632e-01, 1.47777998e-01, 3.90546238e-01, 2.55056328e-01,\n",
       "       6.84017061e-01, 3.91825987e-01, 1.59141969e-01, 7.65205865e-01,\n",
       "       9.51986259e-01, 7.94646639e-01, 9.92960707e-01, 8.94252342e-02,\n",
       "       6.46309140e-01, 1.28881175e-01, 3.62588572e-01, 9.15688491e-01,\n",
       "       5.17370311e-02, 3.27485659e-01, 3.62415597e-01, 2.28676023e-01,\n",
       "       3.85318712e-01, 9.92639412e-01, 4.60325483e-01, 9.54567947e-01,\n",
       "       6.61290991e-02, 3.18256510e-01, 7.08334695e-01, 5.78296712e-01,\n",
       "       1.65603167e-01, 6.58091673e-02, 4.50662798e-01, 6.39433872e-01,\n",
       "       8.23624824e-01, 3.94355645e-01, 9.84126621e-01, 3.01235313e-01,\n",
       "       3.41134058e-01, 3.49982095e-01, 6.31436742e-01, 1.65463123e-01,\n",
       "       1.44836377e-01, 7.17515423e-01, 8.24687762e-01, 1.14484082e-01,\n",
       "       2.75192355e-01, 8.11097554e-01, 1.86937606e-01, 5.13079803e-01,\n",
       "       4.57206311e-01, 3.27842545e-01, 6.19539203e-01, 9.31989295e-01,\n",
       "       5.16756933e-01, 6.64046866e-02, 5.93912900e-01, 8.71687569e-01,\n",
       "       7.00371644e-01, 9.38316665e-01, 1.80482828e-01, 8.52646519e-01,\n",
       "       2.11207050e-01, 1.31996400e-01, 3.41024367e-01, 4.41521200e-01,\n",
       "       5.30036791e-01, 3.51432128e-01, 8.85586327e-01, 2.45695500e-01,\n",
       "       8.63670428e-01, 6.86651244e-01, 5.14477169e-01, 8.97313096e-01,\n",
       "       6.71775217e-02, 4.37119454e-02, 1.68589703e-02, 8.79484082e-02,\n",
       "       7.34230718e-02, 7.77225050e-01, 6.04408995e-01, 2.65111059e-01,\n",
       "       6.28187057e-01, 9.05502485e-01, 4.43642736e-01, 1.24739394e-01,\n",
       "       2.01397445e-01, 2.00613586e-01, 6.70771659e-01, 6.30225152e-01,\n",
       "       2.84310151e-01, 4.46851849e-02, 4.03912789e-01, 1.54769495e-02,\n",
       "       5.50123544e-01, 5.69284524e-01, 5.88595602e-01, 8.33031326e-01,\n",
       "       4.33180873e-01, 4.28003618e-01, 7.91081881e-01, 7.65583932e-01,\n",
       "       1.17407385e-01, 7.23737796e-01, 2.70880176e-01, 8.29435163e-01,\n",
       "       5.02520235e-01, 5.55817501e-01, 2.80345131e-01, 2.76583952e-01,\n",
       "       1.04511358e-01, 4.55655728e-01, 9.52917436e-01, 5.74159829e-01,\n",
       "       5.66137521e-01, 1.39781785e-01, 1.58892945e-01, 4.79219533e-03,\n",
       "       3.98796458e-01, 9.81271024e-01, 2.10211848e-01, 2.49761361e-01,\n",
       "       2.76071748e-01, 7.43511278e-01, 2.40281196e-02, 6.32468209e-01,\n",
       "       1.32245065e-01, 4.19908402e-01, 5.16916218e-01, 7.28619614e-01,\n",
       "       1.27252838e-01, 7.67271354e-01, 5.17651524e-01, 7.46902864e-01,\n",
       "       1.47432506e-01, 3.93587344e-01, 1.93231337e-01, 9.07872156e-01,\n",
       "       9.38855421e-02, 1.76702366e-01, 7.24391833e-01, 9.12136625e-01,\n",
       "       9.29683939e-01, 5.88917008e-01, 2.71022417e-02, 8.29282015e-01,\n",
       "       1.01554167e-01, 2.57242226e-01, 3.95255146e-01, 6.53174804e-01,\n",
       "       6.88048100e-01, 8.28517227e-02, 6.56036320e-01, 4.57461219e-01,\n",
       "       2.96135636e-01, 9.13380518e-01, 3.51174908e-01, 6.65208767e-01,\n",
       "       4.14359453e-01, 2.06460506e-01, 5.72042343e-02, 9.62078054e-01,\n",
       "       1.74960925e-01, 7.74994552e-01, 1.37419321e-01, 7.86967920e-01,\n",
       "       8.23071377e-01, 9.82267557e-01, 5.66787358e-01, 8.07343395e-01,\n",
       "       6.07641865e-01, 8.78912803e-01, 4.95775037e-01, 9.30906511e-01,\n",
       "       7.86957283e-01, 1.05416918e-01, 4.08686032e-01, 1.77320665e-01,\n",
       "       4.13952655e-01, 7.88894487e-01, 5.56186209e-01, 6.56137019e-01,\n",
       "       5.79176472e-01, 3.35153264e-01, 4.47850179e-01, 7.56961087e-01,\n",
       "       6.57937816e-01, 2.70659669e-01, 8.24467268e-01, 5.49090553e-01,\n",
       "       5.69200549e-01, 2.51041524e-01, 1.25192468e-01, 8.96778684e-01,\n",
       "       5.21498367e-02, 4.09083181e-01, 7.90488303e-01, 7.09115039e-01,\n",
       "       8.21653472e-02, 6.30408209e-01, 3.12514395e-01, 6.97011345e-02,\n",
       "       5.67203370e-01, 2.31418081e-01, 6.45794897e-01, 8.37089719e-01,\n",
       "       4.45406565e-01, 8.08222827e-01, 9.35229972e-01, 2.99737896e-02,\n",
       "       4.45857335e-01, 4.40228688e-01, 1.08969988e-01, 3.16966770e-01,\n",
       "       9.34973516e-01, 7.24447529e-01, 6.69742635e-01, 5.82807074e-01,\n",
       "       4.70863877e-01, 1.82787581e-01, 8.36952293e-01, 1.32705518e-01,\n",
       "       8.82008928e-01, 2.05569524e-01, 3.37587145e-01, 7.86874105e-01,\n",
       "       3.00812130e-01, 4.12206212e-02, 2.14112075e-01, 8.76388099e-01,\n",
       "       8.10952993e-01, 6.72457885e-01, 3.00905654e-01, 1.69374410e-01,\n",
       "       1.52405836e-01, 5.80811995e-01, 7.56758165e-01, 6.59683642e-01,\n",
       "       8.23269917e-01, 8.13787757e-01, 5.03796551e-01, 4.59404422e-01,\n",
       "       3.83142731e-01, 7.43288454e-01, 8.37982553e-01, 2.97935392e-01,\n",
       "       1.67163099e-01, 6.06399266e-01, 8.10364819e-01, 2.62126890e-01,\n",
       "       4.21975132e-01, 9.55984873e-01, 6.64007490e-01, 6.21211827e-01,\n",
       "       5.43106633e-01, 7.67489146e-01, 8.05167226e-01, 4.35427016e-01,\n",
       "       5.16321729e-01, 9.94651568e-01, 6.08412139e-01, 8.19511154e-01,\n",
       "       8.95926753e-01, 3.23653376e-01, 2.28059949e-01, 7.63870120e-01,\n",
       "       3.38492753e-01, 1.05395271e-01, 7.89885466e-01, 2.66779742e-01,\n",
       "       4.98762582e-01, 8.83346175e-01, 1.41789566e-01, 4.96062257e-01,\n",
       "       2.16630730e-01, 4.84685807e-01, 1.40432716e-01, 9.64847257e-01,\n",
       "       6.64733357e-01, 2.68966064e-01, 1.67757210e-01, 4.27332471e-01,\n",
       "       8.02536703e-01, 3.22752164e-01, 5.14458558e-01, 3.17986538e-01,\n",
       "       8.17743885e-01, 1.88680142e-01, 1.82454665e-01, 6.61616273e-01,\n",
       "       4.82556888e-03, 9.76690306e-01, 3.51025784e-01, 5.43182622e-01,\n",
       "       3.32810362e-01, 7.78136842e-01, 8.21762370e-01, 2.49366664e-01,\n",
       "       1.96445888e-01, 1.36450465e-01, 4.64038824e-01, 2.19833766e-01,\n",
       "       5.66524555e-01, 3.87164554e-01, 5.12091533e-01, 8.17545317e-01,\n",
       "       8.63674109e-01, 8.46408096e-01, 4.70216946e-01, 7.80584882e-01,\n",
       "       5.26569780e-03, 3.36931458e-01, 8.75598470e-01, 2.02650442e-01,\n",
       "       3.27943241e-01, 1.09106767e-01, 5.87856944e-01, 2.71682201e-01,\n",
       "       1.22675248e-01, 2.51969305e-02, 6.75801349e-01, 8.73754458e-01,\n",
       "       9.86336401e-01, 2.23389104e-01, 3.54346670e-01, 1.83719503e-01,\n",
       "       8.55002306e-01, 8.00717832e-01, 4.57034149e-01, 3.11269850e-01,\n",
       "       5.87158416e-01, 2.79422901e-01, 6.36490673e-01, 9.14898941e-01,\n",
       "       4.81725156e-01, 7.57833397e-03, 5.77931846e-01, 4.41086787e-01,\n",
       "       8.84840919e-01, 7.48211374e-01, 3.98240725e-01, 3.87510924e-01,\n",
       "       9.11143293e-02, 6.23065411e-01, 6.55454844e-01, 5.94693479e-01,\n",
       "       9.80624417e-01, 2.40669509e-01, 1.91345813e-01, 2.19913926e-02,\n",
       "       5.01926463e-01, 9.68239139e-02, 2.55965996e-01, 6.12038561e-02,\n",
       "       5.68847531e-01, 1.95040761e-01, 6.13261034e-01, 3.49959686e-01,\n",
       "       5.74426805e-01, 6.04884040e-01, 5.42819243e-01, 6.26663125e-01,\n",
       "       9.83657392e-01, 2.08598135e-02, 5.69808659e-01, 5.90376927e-01,\n",
       "       5.21033942e-01, 3.81200253e-01, 2.00167387e-01, 5.81512720e-01,\n",
       "       4.04423496e-01, 3.33643552e-01, 2.21024275e-01, 4.29422803e-01,\n",
       "       1.16387309e-01, 9.91060480e-02, 6.14061266e-01, 3.74703602e-01,\n",
       "       1.42655973e-01, 5.29388005e-01, 1.49097627e-01, 2.95047258e-01,\n",
       "       2.96180383e-01, 4.99169377e-01, 5.46382957e-01, 3.29378257e-01,\n",
       "       3.15068094e-01, 1.90715993e-01, 7.44332654e-02, 6.84779784e-01,\n",
       "       7.96985983e-01, 4.26560598e-01, 5.94527662e-01, 4.42903919e-01,\n",
       "       2.30944104e-01, 4.17772099e-01, 4.24170804e-01, 8.17525936e-02,\n",
       "       8.26599246e-01, 5.67406979e-01, 9.54185410e-01, 7.44519155e-01,\n",
       "       4.15684725e-01, 6.80205729e-01, 4.08343944e-01, 1.19707340e-01,\n",
       "       3.82188327e-01, 4.72404034e-01, 9.91751631e-01, 4.84582942e-01,\n",
       "       9.24130691e-01, 9.93533516e-01, 9.55263553e-01, 7.80510069e-02,\n",
       "       3.16773165e-01, 8.20020402e-01, 4.65751963e-01, 8.20421688e-01])"
      ]
     },
     "execution_count": 71,
     "metadata": {},
     "output_type": "execute_result"
    }
   ],
   "source": [
    "data"
   ]
  },
  {
   "cell_type": "code",
   "execution_count": 63,
   "metadata": {},
   "outputs": [],
   "source": [
    "cats = pd.qcut(data, 4, labels=['XtraSmallData', 'SmallData', 'MediumData', 'LargeData']) # Cutting long data into quartiles."
   ]
  },
  {
   "cell_type": "code",
   "execution_count": 64,
   "metadata": {},
   "outputs": [
    {
     "data": {
      "text/plain": [
       "['LargeData', 'LargeData', 'MediumData', 'XtraSmallData', 'SmallData', ..., 'XtraSmallData', 'SmallData', 'LargeData', 'SmallData', 'LargeData']\n",
       "Length: 1000\n",
       "Categories (4, object): ['XtraSmallData' < 'SmallData' < 'MediumData' < 'LargeData']"
      ]
     },
     "execution_count": 64,
     "metadata": {},
     "output_type": "execute_result"
    }
   ],
   "source": [
    "cats"
   ]
  },
  {
   "cell_type": "code",
   "execution_count": 65,
   "metadata": {},
   "outputs": [
    {
     "data": {
      "text/plain": [
       "LargeData        250\n",
       "MediumData       250\n",
       "SmallData        250\n",
       "XtraSmallData    250\n",
       "dtype: int64"
      ]
     },
     "execution_count": 65,
     "metadata": {},
     "output_type": "execute_result"
    }
   ],
   "source": [
    "pd.value_counts(cats)"
   ]
  },
  {
   "cell_type": "code",
   "execution_count": 66,
   "metadata": {},
   "outputs": [
    {
     "data": {
      "text/plain": [
       "[(0.514, 0.874], (0.874, 0.998], (0.514, 0.874], (-0.0009893, 0.116], (0.116, 0.514], ..., (-0.0009893, 0.116], (0.116, 0.514], (0.514, 0.874], (0.116, 0.514], (0.514, 0.874]]\n",
       "Length: 1000\n",
       "Categories (4, interval[float64]): [(-0.0009893, 0.116] < (0.116, 0.514] < (0.514, 0.874] < (0.874, 0.998]]"
      ]
     },
     "execution_count": 66,
     "metadata": {},
     "output_type": "execute_result"
    }
   ],
   "source": [
    "pd.qcut(data, [0, 0.1, 0.5, 0.9, 1.])"
   ]
  },
  {
   "cell_type": "markdown",
   "metadata": {},
   "source": [
    "## Detecting and Filtering Outliers"
   ]
  },
  {
   "cell_type": "code",
   "execution_count": 72,
   "metadata": {},
   "outputs": [],
   "source": [
    "data = pd.DataFrame(np.random.randn(1000, 4))"
   ]
  },
  {
   "cell_type": "code",
   "execution_count": 74,
   "metadata": {},
   "outputs": [
    {
     "data": {
      "text/html": [
       "<div>\n",
       "<style scoped>\n",
       "    .dataframe tbody tr th:only-of-type {\n",
       "        vertical-align: middle;\n",
       "    }\n",
       "\n",
       "    .dataframe tbody tr th {\n",
       "        vertical-align: top;\n",
       "    }\n",
       "\n",
       "    .dataframe thead th {\n",
       "        text-align: right;\n",
       "    }\n",
       "</style>\n",
       "<table border=\"1\" class=\"dataframe\">\n",
       "  <thead>\n",
       "    <tr style=\"text-align: right;\">\n",
       "      <th></th>\n",
       "      <th>0</th>\n",
       "      <th>1</th>\n",
       "      <th>2</th>\n",
       "      <th>3</th>\n",
       "    </tr>\n",
       "  </thead>\n",
       "  <tbody>\n",
       "    <tr>\n",
       "      <th>0</th>\n",
       "      <td>-0.547249</td>\n",
       "      <td>1.130060</td>\n",
       "      <td>-1.047918</td>\n",
       "      <td>1.058495</td>\n",
       "    </tr>\n",
       "    <tr>\n",
       "      <th>1</th>\n",
       "      <td>-0.293717</td>\n",
       "      <td>0.982490</td>\n",
       "      <td>-0.388892</td>\n",
       "      <td>-1.987342</td>\n",
       "    </tr>\n",
       "    <tr>\n",
       "      <th>2</th>\n",
       "      <td>0.948109</td>\n",
       "      <td>-1.210503</td>\n",
       "      <td>0.388984</td>\n",
       "      <td>0.836217</td>\n",
       "    </tr>\n",
       "    <tr>\n",
       "      <th>3</th>\n",
       "      <td>0.301592</td>\n",
       "      <td>-0.743777</td>\n",
       "      <td>0.218649</td>\n",
       "      <td>-0.323411</td>\n",
       "    </tr>\n",
       "    <tr>\n",
       "      <th>4</th>\n",
       "      <td>-0.292187</td>\n",
       "      <td>0.577679</td>\n",
       "      <td>1.404455</td>\n",
       "      <td>-0.378267</td>\n",
       "    </tr>\n",
       "  </tbody>\n",
       "</table>\n",
       "</div>"
      ],
      "text/plain": [
       "          0         1         2         3\n",
       "0 -0.547249  1.130060 -1.047918  1.058495\n",
       "1 -0.293717  0.982490 -0.388892 -1.987342\n",
       "2  0.948109 -1.210503  0.388984  0.836217\n",
       "3  0.301592 -0.743777  0.218649 -0.323411\n",
       "4 -0.292187  0.577679  1.404455 -0.378267"
      ]
     },
     "execution_count": 74,
     "metadata": {},
     "output_type": "execute_result"
    }
   ],
   "source": [
    "data.head()"
   ]
  },
  {
   "cell_type": "code",
   "execution_count": 76,
   "metadata": {},
   "outputs": [
    {
     "data": {
      "text/html": [
       "<div>\n",
       "<style scoped>\n",
       "    .dataframe tbody tr th:only-of-type {\n",
       "        vertical-align: middle;\n",
       "    }\n",
       "\n",
       "    .dataframe tbody tr th {\n",
       "        vertical-align: top;\n",
       "    }\n",
       "\n",
       "    .dataframe thead th {\n",
       "        text-align: right;\n",
       "    }\n",
       "</style>\n",
       "<table border=\"1\" class=\"dataframe\">\n",
       "  <thead>\n",
       "    <tr style=\"text-align: right;\">\n",
       "      <th></th>\n",
       "      <th>0</th>\n",
       "      <th>1</th>\n",
       "      <th>2</th>\n",
       "      <th>3</th>\n",
       "    </tr>\n",
       "  </thead>\n",
       "  <tbody>\n",
       "    <tr>\n",
       "      <th>count</th>\n",
       "      <td>1000.000000</td>\n",
       "      <td>1000.000000</td>\n",
       "      <td>1000.000000</td>\n",
       "      <td>1000.000000</td>\n",
       "    </tr>\n",
       "    <tr>\n",
       "      <th>mean</th>\n",
       "      <td>-0.082895</td>\n",
       "      <td>0.001420</td>\n",
       "      <td>0.027512</td>\n",
       "      <td>-0.037974</td>\n",
       "    </tr>\n",
       "    <tr>\n",
       "      <th>std</th>\n",
       "      <td>0.999530</td>\n",
       "      <td>1.006798</td>\n",
       "      <td>0.983391</td>\n",
       "      <td>0.966907</td>\n",
       "    </tr>\n",
       "    <tr>\n",
       "      <th>min</th>\n",
       "      <td>-2.879615</td>\n",
       "      <td>-3.485770</td>\n",
       "      <td>-2.833251</td>\n",
       "      <td>-3.320791</td>\n",
       "    </tr>\n",
       "    <tr>\n",
       "      <th>25%</th>\n",
       "      <td>-0.758924</td>\n",
       "      <td>-0.720658</td>\n",
       "      <td>-0.627004</td>\n",
       "      <td>-0.692593</td>\n",
       "    </tr>\n",
       "    <tr>\n",
       "      <th>50%</th>\n",
       "      <td>-0.115789</td>\n",
       "      <td>0.021513</td>\n",
       "      <td>-0.000839</td>\n",
       "      <td>-0.061307</td>\n",
       "    </tr>\n",
       "    <tr>\n",
       "      <th>75%</th>\n",
       "      <td>0.599454</td>\n",
       "      <td>0.679765</td>\n",
       "      <td>0.675792</td>\n",
       "      <td>0.584601</td>\n",
       "    </tr>\n",
       "    <tr>\n",
       "      <th>max</th>\n",
       "      <td>3.015487</td>\n",
       "      <td>3.146617</td>\n",
       "      <td>3.152173</td>\n",
       "      <td>3.689162</td>\n",
       "    </tr>\n",
       "  </tbody>\n",
       "</table>\n",
       "</div>"
      ],
      "text/plain": [
       "                 0            1            2            3\n",
       "count  1000.000000  1000.000000  1000.000000  1000.000000\n",
       "mean     -0.082895     0.001420     0.027512    -0.037974\n",
       "std       0.999530     1.006798     0.983391     0.966907\n",
       "min      -2.879615    -3.485770    -2.833251    -3.320791\n",
       "25%      -0.758924    -0.720658    -0.627004    -0.692593\n",
       "50%      -0.115789     0.021513    -0.000839    -0.061307\n",
       "75%       0.599454     0.679765     0.675792     0.584601\n",
       "max       3.015487     3.146617     3.152173     3.689162"
      ]
     },
     "execution_count": 76,
     "metadata": {},
     "output_type": "execute_result"
    }
   ],
   "source": [
    "data.describe()"
   ]
  },
  {
   "cell_type": "code",
   "execution_count": 90,
   "metadata": {},
   "outputs": [],
   "source": [
    "# Suppose we want to find values which is > 3 in column number 2."
   ]
  },
  {
   "cell_type": "code",
   "execution_count": 91,
   "metadata": {},
   "outputs": [],
   "source": [
    "col = data[2]"
   ]
  },
  {
   "cell_type": "code",
   "execution_count": 92,
   "metadata": {},
   "outputs": [
    {
     "data": {
      "text/plain": [
       "194    3.082156\n",
       "325    3.152173\n",
       "Name: 2, dtype: float64"
      ]
     },
     "execution_count": 92,
     "metadata": {},
     "output_type": "execute_result"
    }
   ],
   "source": [
    "col[np.abs(col) > 3]"
   ]
  },
  {
   "cell_type": "code",
   "execution_count": 97,
   "metadata": {},
   "outputs": [
    {
     "data": {
      "text/html": [
       "<div>\n",
       "<style scoped>\n",
       "    .dataframe tbody tr th:only-of-type {\n",
       "        vertical-align: middle;\n",
       "    }\n",
       "\n",
       "    .dataframe tbody tr th {\n",
       "        vertical-align: top;\n",
       "    }\n",
       "\n",
       "    .dataframe thead th {\n",
       "        text-align: right;\n",
       "    }\n",
       "</style>\n",
       "<table border=\"1\" class=\"dataframe\">\n",
       "  <thead>\n",
       "    <tr style=\"text-align: right;\">\n",
       "      <th></th>\n",
       "      <th>0</th>\n",
       "      <th>1</th>\n",
       "      <th>2</th>\n",
       "      <th>3</th>\n",
       "    </tr>\n",
       "  </thead>\n",
       "  <tbody>\n",
       "    <tr>\n",
       "      <th>194</th>\n",
       "      <td>0.951926</td>\n",
       "      <td>0.752108</td>\n",
       "      <td>3.082156</td>\n",
       "      <td>-0.092126</td>\n",
       "    </tr>\n",
       "    <tr>\n",
       "      <th>325</th>\n",
       "      <td>0.638785</td>\n",
       "      <td>0.612897</td>\n",
       "      <td>3.152173</td>\n",
       "      <td>0.439690</td>\n",
       "    </tr>\n",
       "    <tr>\n",
       "      <th>524</th>\n",
       "      <td>3.015487</td>\n",
       "      <td>1.016344</td>\n",
       "      <td>0.145671</td>\n",
       "      <td>0.555686</td>\n",
       "    </tr>\n",
       "    <tr>\n",
       "      <th>556</th>\n",
       "      <td>1.210044</td>\n",
       "      <td>1.537784</td>\n",
       "      <td>-0.270861</td>\n",
       "      <td>3.689162</td>\n",
       "    </tr>\n",
       "    <tr>\n",
       "      <th>728</th>\n",
       "      <td>0.172473</td>\n",
       "      <td>3.146617</td>\n",
       "      <td>-0.495387</td>\n",
       "      <td>1.027042</td>\n",
       "    </tr>\n",
       "  </tbody>\n",
       "</table>\n",
       "</div>"
      ],
      "text/plain": [
       "            0         1         2         3\n",
       "194  0.951926  0.752108  3.082156 -0.092126\n",
       "325  0.638785  0.612897  3.152173  0.439690\n",
       "524  3.015487  1.016344  0.145671  0.555686\n",
       "556  1.210044  1.537784 -0.270861  3.689162\n",
       "728  0.172473  3.146617 -0.495387  1.027042"
      ]
     },
     "execution_count": 97,
     "metadata": {},
     "output_type": "execute_result"
    }
   ],
   "source": [
    "data[np.abs(data > 3).any(1)] #selecting all rows having a values exceeding 3 or -3."
   ]
  },
  {
   "cell_type": "code",
   "execution_count": 98,
   "metadata": {},
   "outputs": [],
   "source": [
    "data[np.abs(data > 3)] = np.sign(data) * 3"
   ]
  },
  {
   "cell_type": "code",
   "execution_count": 99,
   "metadata": {},
   "outputs": [
    {
     "data": {
      "text/html": [
       "<div>\n",
       "<style scoped>\n",
       "    .dataframe tbody tr th:only-of-type {\n",
       "        vertical-align: middle;\n",
       "    }\n",
       "\n",
       "    .dataframe tbody tr th {\n",
       "        vertical-align: top;\n",
       "    }\n",
       "\n",
       "    .dataframe thead th {\n",
       "        text-align: right;\n",
       "    }\n",
       "</style>\n",
       "<table border=\"1\" class=\"dataframe\">\n",
       "  <thead>\n",
       "    <tr style=\"text-align: right;\">\n",
       "      <th></th>\n",
       "      <th>0</th>\n",
       "      <th>1</th>\n",
       "      <th>2</th>\n",
       "      <th>3</th>\n",
       "    </tr>\n",
       "  </thead>\n",
       "  <tbody>\n",
       "    <tr>\n",
       "      <th>count</th>\n",
       "      <td>1000.000000</td>\n",
       "      <td>1000.000000</td>\n",
       "      <td>1000.000000</td>\n",
       "      <td>1000.000000</td>\n",
       "    </tr>\n",
       "    <tr>\n",
       "      <th>mean</th>\n",
       "      <td>-0.082910</td>\n",
       "      <td>0.001273</td>\n",
       "      <td>0.027278</td>\n",
       "      <td>-0.038663</td>\n",
       "    </tr>\n",
       "    <tr>\n",
       "      <th>std</th>\n",
       "      <td>0.999482</td>\n",
       "      <td>1.006350</td>\n",
       "      <td>0.982666</td>\n",
       "      <td>0.964491</td>\n",
       "    </tr>\n",
       "    <tr>\n",
       "      <th>min</th>\n",
       "      <td>-2.879615</td>\n",
       "      <td>-3.485770</td>\n",
       "      <td>-2.833251</td>\n",
       "      <td>-3.320791</td>\n",
       "    </tr>\n",
       "    <tr>\n",
       "      <th>25%</th>\n",
       "      <td>-0.758924</td>\n",
       "      <td>-0.720658</td>\n",
       "      <td>-0.627004</td>\n",
       "      <td>-0.692593</td>\n",
       "    </tr>\n",
       "    <tr>\n",
       "      <th>50%</th>\n",
       "      <td>-0.115789</td>\n",
       "      <td>0.021513</td>\n",
       "      <td>-0.000839</td>\n",
       "      <td>-0.061307</td>\n",
       "    </tr>\n",
       "    <tr>\n",
       "      <th>75%</th>\n",
       "      <td>0.599454</td>\n",
       "      <td>0.679765</td>\n",
       "      <td>0.675792</td>\n",
       "      <td>0.584601</td>\n",
       "    </tr>\n",
       "    <tr>\n",
       "      <th>max</th>\n",
       "      <td>3.000000</td>\n",
       "      <td>3.000000</td>\n",
       "      <td>3.000000</td>\n",
       "      <td>3.000000</td>\n",
       "    </tr>\n",
       "  </tbody>\n",
       "</table>\n",
       "</div>"
      ],
      "text/plain": [
       "                 0            1            2            3\n",
       "count  1000.000000  1000.000000  1000.000000  1000.000000\n",
       "mean     -0.082910     0.001273     0.027278    -0.038663\n",
       "std       0.999482     1.006350     0.982666     0.964491\n",
       "min      -2.879615    -3.485770    -2.833251    -3.320791\n",
       "25%      -0.758924    -0.720658    -0.627004    -0.692593\n",
       "50%      -0.115789     0.021513    -0.000839    -0.061307\n",
       "75%       0.599454     0.679765     0.675792     0.584601\n",
       "max       3.000000     3.000000     3.000000     3.000000"
      ]
     },
     "execution_count": 99,
     "metadata": {},
     "output_type": "execute_result"
    }
   ],
   "source": [
    "data.describe()"
   ]
  },
  {
   "cell_type": "code",
   "execution_count": 102,
   "metadata": {},
   "outputs": [
    {
     "data": {
      "text/html": [
       "<div>\n",
       "<style scoped>\n",
       "    .dataframe tbody tr th:only-of-type {\n",
       "        vertical-align: middle;\n",
       "    }\n",
       "\n",
       "    .dataframe tbody tr th {\n",
       "        vertical-align: top;\n",
       "    }\n",
       "\n",
       "    .dataframe thead th {\n",
       "        text-align: right;\n",
       "    }\n",
       "</style>\n",
       "<table border=\"1\" class=\"dataframe\">\n",
       "  <thead>\n",
       "    <tr style=\"text-align: right;\">\n",
       "      <th></th>\n",
       "      <th>0</th>\n",
       "      <th>1</th>\n",
       "      <th>2</th>\n",
       "      <th>3</th>\n",
       "    </tr>\n",
       "  </thead>\n",
       "  <tbody>\n",
       "    <tr>\n",
       "      <th>0</th>\n",
       "      <td>-1.0</td>\n",
       "      <td>1.0</td>\n",
       "      <td>-1.0</td>\n",
       "      <td>1.0</td>\n",
       "    </tr>\n",
       "    <tr>\n",
       "      <th>1</th>\n",
       "      <td>-1.0</td>\n",
       "      <td>1.0</td>\n",
       "      <td>-1.0</td>\n",
       "      <td>-1.0</td>\n",
       "    </tr>\n",
       "    <tr>\n",
       "      <th>2</th>\n",
       "      <td>1.0</td>\n",
       "      <td>-1.0</td>\n",
       "      <td>1.0</td>\n",
       "      <td>1.0</td>\n",
       "    </tr>\n",
       "    <tr>\n",
       "      <th>3</th>\n",
       "      <td>1.0</td>\n",
       "      <td>-1.0</td>\n",
       "      <td>1.0</td>\n",
       "      <td>-1.0</td>\n",
       "    </tr>\n",
       "    <tr>\n",
       "      <th>4</th>\n",
       "      <td>-1.0</td>\n",
       "      <td>1.0</td>\n",
       "      <td>1.0</td>\n",
       "      <td>-1.0</td>\n",
       "    </tr>\n",
       "  </tbody>\n",
       "</table>\n",
       "</div>"
      ],
      "text/plain": [
       "     0    1    2    3\n",
       "0 -1.0  1.0 -1.0  1.0\n",
       "1 -1.0  1.0 -1.0 -1.0\n",
       "2  1.0 -1.0  1.0  1.0\n",
       "3  1.0 -1.0  1.0 -1.0\n",
       "4 -1.0  1.0  1.0 -1.0"
      ]
     },
     "execution_count": 102,
     "metadata": {},
     "output_type": "execute_result"
    }
   ],
   "source": [
    "np.sign(data).head() # 1 for positive values and -1 for negative values."
   ]
  },
  {
   "cell_type": "markdown",
   "metadata": {},
   "source": [
    "## Permutation and Random Sampling"
   ]
  },
  {
   "cell_type": "code",
   "execution_count": 103,
   "metadata": {},
   "outputs": [],
   "source": [
    "df = pd.DataFrame(np.arange(5*4).reshape((5, 4)))"
   ]
  },
  {
   "cell_type": "code",
   "execution_count": 113,
   "metadata": {},
   "outputs": [],
   "source": [
    "sampler = np.random.permutation(5) # creating random axis changes using permutaion aka Kramchay."
   ]
  },
  {
   "cell_type": "code",
   "execution_count": 114,
   "metadata": {},
   "outputs": [
    {
     "data": {
      "text/plain": [
       "array([0, 2, 3, 4, 1])"
      ]
     },
     "execution_count": 114,
     "metadata": {},
     "output_type": "execute_result"
    }
   ],
   "source": [
    "sampler"
   ]
  },
  {
   "cell_type": "code",
   "execution_count": 115,
   "metadata": {},
   "outputs": [
    {
     "data": {
      "text/html": [
       "<div>\n",
       "<style scoped>\n",
       "    .dataframe tbody tr th:only-of-type {\n",
       "        vertical-align: middle;\n",
       "    }\n",
       "\n",
       "    .dataframe tbody tr th {\n",
       "        vertical-align: top;\n",
       "    }\n",
       "\n",
       "    .dataframe thead th {\n",
       "        text-align: right;\n",
       "    }\n",
       "</style>\n",
       "<table border=\"1\" class=\"dataframe\">\n",
       "  <thead>\n",
       "    <tr style=\"text-align: right;\">\n",
       "      <th></th>\n",
       "      <th>0</th>\n",
       "      <th>1</th>\n",
       "      <th>2</th>\n",
       "      <th>3</th>\n",
       "    </tr>\n",
       "  </thead>\n",
       "  <tbody>\n",
       "    <tr>\n",
       "      <th>0</th>\n",
       "      <td>0</td>\n",
       "      <td>1</td>\n",
       "      <td>2</td>\n",
       "      <td>3</td>\n",
       "    </tr>\n",
       "    <tr>\n",
       "      <th>1</th>\n",
       "      <td>4</td>\n",
       "      <td>5</td>\n",
       "      <td>6</td>\n",
       "      <td>7</td>\n",
       "    </tr>\n",
       "    <tr>\n",
       "      <th>2</th>\n",
       "      <td>8</td>\n",
       "      <td>9</td>\n",
       "      <td>10</td>\n",
       "      <td>11</td>\n",
       "    </tr>\n",
       "    <tr>\n",
       "      <th>3</th>\n",
       "      <td>12</td>\n",
       "      <td>13</td>\n",
       "      <td>14</td>\n",
       "      <td>15</td>\n",
       "    </tr>\n",
       "    <tr>\n",
       "      <th>4</th>\n",
       "      <td>16</td>\n",
       "      <td>17</td>\n",
       "      <td>18</td>\n",
       "      <td>19</td>\n",
       "    </tr>\n",
       "  </tbody>\n",
       "</table>\n",
       "</div>"
      ],
      "text/plain": [
       "    0   1   2   3\n",
       "0   0   1   2   3\n",
       "1   4   5   6   7\n",
       "2   8   9  10  11\n",
       "3  12  13  14  15\n",
       "4  16  17  18  19"
      ]
     },
     "execution_count": 115,
     "metadata": {},
     "output_type": "execute_result"
    }
   ],
   "source": [
    "df"
   ]
  },
  {
   "cell_type": "code",
   "execution_count": 116,
   "metadata": {},
   "outputs": [
    {
     "data": {
      "text/html": [
       "<div>\n",
       "<style scoped>\n",
       "    .dataframe tbody tr th:only-of-type {\n",
       "        vertical-align: middle;\n",
       "    }\n",
       "\n",
       "    .dataframe tbody tr th {\n",
       "        vertical-align: top;\n",
       "    }\n",
       "\n",
       "    .dataframe thead th {\n",
       "        text-align: right;\n",
       "    }\n",
       "</style>\n",
       "<table border=\"1\" class=\"dataframe\">\n",
       "  <thead>\n",
       "    <tr style=\"text-align: right;\">\n",
       "      <th></th>\n",
       "      <th>0</th>\n",
       "      <th>1</th>\n",
       "      <th>2</th>\n",
       "      <th>3</th>\n",
       "    </tr>\n",
       "  </thead>\n",
       "  <tbody>\n",
       "    <tr>\n",
       "      <th>0</th>\n",
       "      <td>0</td>\n",
       "      <td>1</td>\n",
       "      <td>2</td>\n",
       "      <td>3</td>\n",
       "    </tr>\n",
       "    <tr>\n",
       "      <th>2</th>\n",
       "      <td>8</td>\n",
       "      <td>9</td>\n",
       "      <td>10</td>\n",
       "      <td>11</td>\n",
       "    </tr>\n",
       "    <tr>\n",
       "      <th>3</th>\n",
       "      <td>12</td>\n",
       "      <td>13</td>\n",
       "      <td>14</td>\n",
       "      <td>15</td>\n",
       "    </tr>\n",
       "    <tr>\n",
       "      <th>4</th>\n",
       "      <td>16</td>\n",
       "      <td>17</td>\n",
       "      <td>18</td>\n",
       "      <td>19</td>\n",
       "    </tr>\n",
       "    <tr>\n",
       "      <th>1</th>\n",
       "      <td>4</td>\n",
       "      <td>5</td>\n",
       "      <td>6</td>\n",
       "      <td>7</td>\n",
       "    </tr>\n",
       "  </tbody>\n",
       "</table>\n",
       "</div>"
      ],
      "text/plain": [
       "    0   1   2   3\n",
       "0   0   1   2   3\n",
       "2   8   9  10  11\n",
       "3  12  13  14  15\n",
       "4  16  17  18  19\n",
       "1   4   5   6   7"
      ]
     },
     "execution_count": 116,
     "metadata": {},
     "output_type": "execute_result"
    }
   ],
   "source": [
    "df.take(sampler)"
   ]
  },
  {
   "cell_type": "code",
   "execution_count": 123,
   "metadata": {},
   "outputs": [
    {
     "data": {
      "text/html": [
       "<div>\n",
       "<style scoped>\n",
       "    .dataframe tbody tr th:only-of-type {\n",
       "        vertical-align: middle;\n",
       "    }\n",
       "\n",
       "    .dataframe tbody tr th {\n",
       "        vertical-align: top;\n",
       "    }\n",
       "\n",
       "    .dataframe thead th {\n",
       "        text-align: right;\n",
       "    }\n",
       "</style>\n",
       "<table border=\"1\" class=\"dataframe\">\n",
       "  <thead>\n",
       "    <tr style=\"text-align: right;\">\n",
       "      <th></th>\n",
       "      <th>0</th>\n",
       "      <th>1</th>\n",
       "      <th>2</th>\n",
       "      <th>3</th>\n",
       "    </tr>\n",
       "  </thead>\n",
       "  <tbody>\n",
       "    <tr>\n",
       "      <th>1</th>\n",
       "      <td>4</td>\n",
       "      <td>5</td>\n",
       "      <td>6</td>\n",
       "      <td>7</td>\n",
       "    </tr>\n",
       "    <tr>\n",
       "      <th>4</th>\n",
       "      <td>16</td>\n",
       "      <td>17</td>\n",
       "      <td>18</td>\n",
       "      <td>19</td>\n",
       "    </tr>\n",
       "    <tr>\n",
       "      <th>2</th>\n",
       "      <td>8</td>\n",
       "      <td>9</td>\n",
       "      <td>10</td>\n",
       "      <td>11</td>\n",
       "    </tr>\n",
       "  </tbody>\n",
       "</table>\n",
       "</div>"
      ],
      "text/plain": [
       "    0   1   2   3\n",
       "1   4   5   6   7\n",
       "4  16  17  18  19\n",
       "2   8   9  10  11"
      ]
     },
     "execution_count": 123,
     "metadata": {},
     "output_type": "execute_result"
    }
   ],
   "source": [
    "df.sample(n=3) # display sample data with sample method of pandas we can display subset without replacement."
   ]
  },
  {
   "cell_type": "code",
   "execution_count": 124,
   "metadata": {},
   "outputs": [],
   "source": [
    "choices = pd.Series([5, 7, -1, 6, 4])"
   ]
  },
  {
   "cell_type": "code",
   "execution_count": 128,
   "metadata": {},
   "outputs": [],
   "source": [
    "draws = choices.sample(n=10, replace=True)"
   ]
  },
  {
   "cell_type": "code",
   "execution_count": 129,
   "metadata": {},
   "outputs": [
    {
     "data": {
      "text/plain": [
       "1    7\n",
       "1    7\n",
       "1    7\n",
       "4    4\n",
       "0    5\n",
       "3    6\n",
       "3    6\n",
       "4    4\n",
       "0    5\n",
       "0    5\n",
       "dtype: int64"
      ]
     },
     "execution_count": 129,
     "metadata": {},
     "output_type": "execute_result"
    }
   ],
   "source": [
    "draws"
   ]
  },
  {
   "cell_type": "markdown",
   "metadata": {},
   "source": [
    "## Computing Indicator / Dummy Variables"
   ]
  },
  {
   "cell_type": "code",
   "execution_count": 142,
   "metadata": {},
   "outputs": [],
   "source": [
    "df = pd.DataFrame({'key': ['b', 'b', 'a', 'c', 'a', 'b', 'd'],\n",
    "                  'data1': range(7)})"
   ]
  },
  {
   "cell_type": "code",
   "execution_count": 143,
   "metadata": {},
   "outputs": [
    {
     "data": {
      "text/html": [
       "<div>\n",
       "<style scoped>\n",
       "    .dataframe tbody tr th:only-of-type {\n",
       "        vertical-align: middle;\n",
       "    }\n",
       "\n",
       "    .dataframe tbody tr th {\n",
       "        vertical-align: top;\n",
       "    }\n",
       "\n",
       "    .dataframe thead th {\n",
       "        text-align: right;\n",
       "    }\n",
       "</style>\n",
       "<table border=\"1\" class=\"dataframe\">\n",
       "  <thead>\n",
       "    <tr style=\"text-align: right;\">\n",
       "      <th></th>\n",
       "      <th>a</th>\n",
       "      <th>b</th>\n",
       "      <th>c</th>\n",
       "      <th>d</th>\n",
       "    </tr>\n",
       "  </thead>\n",
       "  <tbody>\n",
       "    <tr>\n",
       "      <th>0</th>\n",
       "      <td>0</td>\n",
       "      <td>1</td>\n",
       "      <td>0</td>\n",
       "      <td>0</td>\n",
       "    </tr>\n",
       "    <tr>\n",
       "      <th>1</th>\n",
       "      <td>0</td>\n",
       "      <td>1</td>\n",
       "      <td>0</td>\n",
       "      <td>0</td>\n",
       "    </tr>\n",
       "    <tr>\n",
       "      <th>2</th>\n",
       "      <td>1</td>\n",
       "      <td>0</td>\n",
       "      <td>0</td>\n",
       "      <td>0</td>\n",
       "    </tr>\n",
       "    <tr>\n",
       "      <th>3</th>\n",
       "      <td>0</td>\n",
       "      <td>0</td>\n",
       "      <td>1</td>\n",
       "      <td>0</td>\n",
       "    </tr>\n",
       "    <tr>\n",
       "      <th>4</th>\n",
       "      <td>1</td>\n",
       "      <td>0</td>\n",
       "      <td>0</td>\n",
       "      <td>0</td>\n",
       "    </tr>\n",
       "    <tr>\n",
       "      <th>5</th>\n",
       "      <td>0</td>\n",
       "      <td>1</td>\n",
       "      <td>0</td>\n",
       "      <td>0</td>\n",
       "    </tr>\n",
       "    <tr>\n",
       "      <th>6</th>\n",
       "      <td>0</td>\n",
       "      <td>0</td>\n",
       "      <td>0</td>\n",
       "      <td>1</td>\n",
       "    </tr>\n",
       "  </tbody>\n",
       "</table>\n",
       "</div>"
      ],
      "text/plain": [
       "   a  b  c  d\n",
       "0  0  1  0  0\n",
       "1  0  1  0  0\n",
       "2  1  0  0  0\n",
       "3  0  0  1  0\n",
       "4  1  0  0  0\n",
       "5  0  1  0  0\n",
       "6  0  0  0  1"
      ]
     },
     "execution_count": 143,
     "metadata": {},
     "output_type": "execute_result"
    }
   ],
   "source": [
    "pd.get_dummies(df['key'])"
   ]
  },
  {
   "cell_type": "code",
   "execution_count": 148,
   "metadata": {},
   "outputs": [],
   "source": [
    "dummies = pd.get_dummies(df['key'], prefix='Dummy_Data')"
   ]
  },
  {
   "cell_type": "code",
   "execution_count": 149,
   "metadata": {},
   "outputs": [
    {
     "data": {
      "text/html": [
       "<div>\n",
       "<style scoped>\n",
       "    .dataframe tbody tr th:only-of-type {\n",
       "        vertical-align: middle;\n",
       "    }\n",
       "\n",
       "    .dataframe tbody tr th {\n",
       "        vertical-align: top;\n",
       "    }\n",
       "\n",
       "    .dataframe thead th {\n",
       "        text-align: right;\n",
       "    }\n",
       "</style>\n",
       "<table border=\"1\" class=\"dataframe\">\n",
       "  <thead>\n",
       "    <tr style=\"text-align: right;\">\n",
       "      <th></th>\n",
       "      <th>Dummy_Data_a</th>\n",
       "      <th>Dummy_Data_b</th>\n",
       "      <th>Dummy_Data_c</th>\n",
       "      <th>Dummy_Data_d</th>\n",
       "    </tr>\n",
       "  </thead>\n",
       "  <tbody>\n",
       "    <tr>\n",
       "      <th>0</th>\n",
       "      <td>0</td>\n",
       "      <td>1</td>\n",
       "      <td>0</td>\n",
       "      <td>0</td>\n",
       "    </tr>\n",
       "    <tr>\n",
       "      <th>1</th>\n",
       "      <td>0</td>\n",
       "      <td>1</td>\n",
       "      <td>0</td>\n",
       "      <td>0</td>\n",
       "    </tr>\n",
       "    <tr>\n",
       "      <th>2</th>\n",
       "      <td>1</td>\n",
       "      <td>0</td>\n",
       "      <td>0</td>\n",
       "      <td>0</td>\n",
       "    </tr>\n",
       "    <tr>\n",
       "      <th>3</th>\n",
       "      <td>0</td>\n",
       "      <td>0</td>\n",
       "      <td>1</td>\n",
       "      <td>0</td>\n",
       "    </tr>\n",
       "    <tr>\n",
       "      <th>4</th>\n",
       "      <td>1</td>\n",
       "      <td>0</td>\n",
       "      <td>0</td>\n",
       "      <td>0</td>\n",
       "    </tr>\n",
       "    <tr>\n",
       "      <th>5</th>\n",
       "      <td>0</td>\n",
       "      <td>1</td>\n",
       "      <td>0</td>\n",
       "      <td>0</td>\n",
       "    </tr>\n",
       "    <tr>\n",
       "      <th>6</th>\n",
       "      <td>0</td>\n",
       "      <td>0</td>\n",
       "      <td>0</td>\n",
       "      <td>1</td>\n",
       "    </tr>\n",
       "  </tbody>\n",
       "</table>\n",
       "</div>"
      ],
      "text/plain": [
       "   Dummy_Data_a  Dummy_Data_b  Dummy_Data_c  Dummy_Data_d\n",
       "0             0             1             0             0\n",
       "1             0             1             0             0\n",
       "2             1             0             0             0\n",
       "3             0             0             1             0\n",
       "4             1             0             0             0\n",
       "5             0             1             0             0\n",
       "6             0             0             0             1"
      ]
     },
     "execution_count": 149,
     "metadata": {},
     "output_type": "execute_result"
    }
   ],
   "source": [
    "dummies"
   ]
  },
  {
   "cell_type": "code",
   "execution_count": null,
   "metadata": {},
   "outputs": [],
   "source": []
  }
 ],
 "metadata": {
  "kernelspec": {
   "display_name": "Python 3",
   "language": "python",
   "name": "python3"
  },
  "language_info": {
   "codemirror_mode": {
    "name": "ipython",
    "version": 3
   },
   "file_extension": ".py",
   "mimetype": "text/x-python",
   "name": "python",
   "nbconvert_exporter": "python",
   "pygments_lexer": "ipython3",
   "version": "3.8.5"
  }
 },
 "nbformat": 4,
 "nbformat_minor": 4
}
